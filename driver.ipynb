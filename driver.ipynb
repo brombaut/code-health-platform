{
 "cells": [
  {
   "cell_type": "code",
   "execution_count": 21,
   "id": "99549fef-6339-463d-be67-87589d038279",
   "metadata": {},
   "outputs": [],
   "source": [
    "from ipynb.fs.full.cs_entities import ProjectForAnalysis, SystemBoundaries, AuthorColor\n",
    "from ipynb.fs.full.cs_analysis import \\\n",
    "    HotspotAnalysis, \\\n",
    "    StaticFileComplexityAnalysis, TrendFileComplexityAnalysis, \\\n",
    "    SystemCouplingAnalysis, FileCouplingAnalysis, \\\n",
    "    ParallelWorkAnalysis, MainDeveloperAnalysis"
   ]
  },
  {
   "cell_type": "markdown",
   "id": "31a1d472",
   "metadata": {},
   "source": [
    "## Create projects for analysis objects\n",
    "\n",
    "Need to specify the location of the local git directory, and optionally include a *before* and *after* date (in the form YYYY-MM-DD) to limit the timespan for the analysis."
   ]
  },
  {
   "cell_type": "code",
   "execution_count": 22,
   "id": "757176fc",
   "metadata": {},
   "outputs": [],
   "source": [
    "boundaries_dict = {\n",
    "    \"Code\": [\"src/code_maat\"],\n",
    "    \"Test\": [\"test/code_maat\"],\n",
    "}\n",
    "code_maat = ProjectForAnalysis(\n",
    "    \"/home/brombaut/work/code-maat\",\n",
    "    system_boundaries=SystemBoundaries(boundaries_dict)\n",
    ")"
   ]
  },
  {
   "cell_type": "code",
   "execution_count": 23,
   "id": "362c944d",
   "metadata": {},
   "outputs": [],
   "source": [
    "code_maat = ProjectForAnalysis(\"/home/brombaut/work/code-maat\")\n",
    "sklearn = ProjectForAnalysis(\"/home/brombaut/work/scikit-learn\")\n",
    "\n",
    "# benrombautca = ProjectForAnalysis(\"/home/brombaut/work/benrombautca\")\n",
    "# hibernate = ProjectForAnalysis(\"/home/brombaut/work/hibernate-orm\", before=\"2013-09-05\", after=\"2012-01-01\")\n",
    "# craft = ProjectForAnalysis(\"/home/brombaut/work/Craft.Net\", before=\"2013-01-01\")"
   ]
  },
  {
   "cell_type": "markdown",
   "id": "d09ffd9d",
   "metadata": {},
   "source": [
    "### Perform a Hotspot analysis"
   ]
  },
  {
   "cell_type": "code",
   "execution_count": 24,
   "id": "6ee3a74c",
   "metadata": {},
   "outputs": [],
   "source": [
    "hs_analysis = HotspotAnalysis(code_maat).analyze()"
   ]
  },
  {
   "cell_type": "markdown",
   "id": "6a6b4723",
   "metadata": {},
   "source": [
    "See what the primary hotspots in the project for the timespan is"
   ]
  },
  {
   "cell_type": "code",
   "execution_count": 25,
   "id": "2a0cc362",
   "metadata": {},
   "outputs": [
    {
     "data": {
      "text/html": [
       "<div>\n",
       "<style scoped>\n",
       "    .dataframe tbody tr th:only-of-type {\n",
       "        vertical-align: middle;\n",
       "    }\n",
       "\n",
       "    .dataframe tbody tr th {\n",
       "        vertical-align: top;\n",
       "    }\n",
       "\n",
       "    .dataframe thead th {\n",
       "        text-align: right;\n",
       "    }\n",
       "</style>\n",
       "<table border=\"1\" class=\"dataframe\">\n",
       "  <thead>\n",
       "    <tr style=\"text-align: right;\">\n",
       "      <th></th>\n",
       "      <th>module</th>\n",
       "      <th>revisions</th>\n",
       "      <th>code</th>\n",
       "    </tr>\n",
       "  </thead>\n",
       "  <tbody>\n",
       "    <tr>\n",
       "      <th>0</th>\n",
       "      <td>src/code_maat/analysis/logical_coupling.clj</td>\n",
       "      <td>26</td>\n",
       "      <td>145</td>\n",
       "    </tr>\n",
       "    <tr>\n",
       "      <th>1</th>\n",
       "      <td>src/code_maat/app/app.clj</td>\n",
       "      <td>25</td>\n",
       "      <td>85</td>\n",
       "    </tr>\n",
       "    <tr>\n",
       "      <th>2</th>\n",
       "      <td>src/code_maat/core.clj</td>\n",
       "      <td>21</td>\n",
       "      <td>35</td>\n",
       "    </tr>\n",
       "    <tr>\n",
       "      <th>3</th>\n",
       "      <td>test/code_maat/end_to_end/scenario_tests.clj</td>\n",
       "      <td>20</td>\n",
       "      <td>91</td>\n",
       "    </tr>\n",
       "    <tr>\n",
       "      <th>4</th>\n",
       "      <td>project.clj</td>\n",
       "      <td>19</td>\n",
       "      <td>17</td>\n",
       "    </tr>\n",
       "    <tr>\n",
       "      <th>5</th>\n",
       "      <td>src/code_maat/parsers/svn.clj</td>\n",
       "      <td>19</td>\n",
       "      <td>53</td>\n",
       "    </tr>\n",
       "    <tr>\n",
       "      <th>6</th>\n",
       "      <td>src/code_maat/parsers/git.clj</td>\n",
       "      <td>14</td>\n",
       "      <td>31</td>\n",
       "    </tr>\n",
       "    <tr>\n",
       "      <th>7</th>\n",
       "      <td>src/code_maat/analysis/authors.clj</td>\n",
       "      <td>14</td>\n",
       "      <td>47</td>\n",
       "    </tr>\n",
       "    <tr>\n",
       "      <th>8</th>\n",
       "      <td>test/code_maat/analysis/logical_coupling_test.clj</td>\n",
       "      <td>13</td>\n",
       "      <td>89</td>\n",
       "    </tr>\n",
       "    <tr>\n",
       "      <th>9</th>\n",
       "      <td>README.md</td>\n",
       "      <td>11</td>\n",
       "      <td>87</td>\n",
       "    </tr>\n",
       "  </tbody>\n",
       "</table>\n",
       "</div>"
      ],
      "text/plain": [
       "                                              module  revisions  code\n",
       "0        src/code_maat/analysis/logical_coupling.clj         26   145\n",
       "1                          src/code_maat/app/app.clj         25    85\n",
       "2                             src/code_maat/core.clj         21    35\n",
       "3       test/code_maat/end_to_end/scenario_tests.clj         20    91\n",
       "4                                        project.clj         19    17\n",
       "5                      src/code_maat/parsers/svn.clj         19    53\n",
       "6                      src/code_maat/parsers/git.clj         14    31\n",
       "7                 src/code_maat/analysis/authors.clj         14    47\n",
       "8  test/code_maat/analysis/logical_coupling_test.clj         13    89\n",
       "9                                          README.md         11    87"
      ]
     },
     "execution_count": 25,
     "metadata": {},
     "output_type": "execute_result"
    }
   ],
   "source": [
    "hs_analysis.df().head(10)"
   ]
  },
  {
   "cell_type": "code",
   "execution_count": 44,
   "id": "6272a90b",
   "metadata": {},
   "outputs": [
    {
     "data": {
      "application/javascript": [
       "require.undef('enclosure_diagram_js');\n",
       "\n",
       "require.config({paths: {d3: 'd3/d3_7.3.0/d3.min'}});\n",
       "\n",
       "function makeColor(d3) {\n",
       "    const result = d3.scaleLinear()\n",
       "    .domain([-1, 5])\n",
       "    .range([\"hsl(185,60%,99%)\", \"hsl(187,40%,70%)\"])\n",
       "    .interpolate(d3.interpolateHcl);\n",
       "    return (c) => result(c);\n",
       "}\n",
       "\n",
       "function makeDiameters(container) {\n",
       "    const containerRect = container.getBoundingClientRect();\n",
       "    const outerDiameterOffset = 10;\n",
       "    const margin = 10;\n",
       "    const outerW = containerRect.width - outerDiameterOffset;\n",
       "    const innerW = outerW - 2*margin;\n",
       "    const outerH = containerRect.width - outerDiameterOffset;\n",
       "    const innerH = outerH - 2*margin;\n",
       "    const result = {\n",
       "        outerW,\n",
       "        innerW,\n",
       "        outerH,\n",
       "        innerH\n",
       "    }\n",
       "    return result;\n",
       "}\n",
       "\n",
       "function makeRoot(d3, data, diameters) {\n",
       "    const pack = (data) => d3.pack()\n",
       "        .size([diameters.innerW, diameters.innerH])\n",
       "        .padding(3)\n",
       "        (d3.hierarchy(data)\n",
       "            .sum(d => Number(d.size))\n",
       "            .sort((a, b) => b.size - a.size))\n",
       "    const result = pack(data);\n",
       "    return result;\n",
       "}\n",
       "\n",
       "function makeSvg(d3, container, diameters, color) {\n",
       "    const minX = diameters.outerW / 2;\n",
       "    const minY = diameters.outerH / 2;\n",
       "    const width = diameters.outerW;\n",
       "    const height = diameters.outerH;\n",
       "    const result = d3.select(container).append(\"svg\")\n",
       "        .attr(\"viewBox\", `-${minX}, -${minY}, ${width}, ${height}`)\n",
       "        .style(\"background\", color(0))\n",
       "        .style(\"cursor\", \"pointer\");\n",
       "    return result\n",
       "}\n",
       "\n",
       "function makeTooltip(d3, container) {\n",
       "    const result = d3.select(container).append(\"div\")\t\n",
       "        .attr(\"class\", \"tooltip\")\t\t\t\t\n",
       "        .style(\"opacity\", 0)\n",
       "        .style(\"z-index\", 100);\n",
       "    return result;\n",
       "}\n",
       "\n",
       "function makeNode(d3, container, svg, root, tooltipEl, enc_type, zoom, color, focus) {\n",
       "    const tooltipFunctions = {\n",
       "        show: (event, d) => {\n",
       "            tooltipEl.transition()\n",
       "                .duration(200)\n",
       "                .style(\"opacity\", .9);\n",
       "            tooltipEl.html(d.data.name);\n",
       "            const targetCircleBoundingRect = event.target.getBoundingClientRect();\n",
       "            const topOffset = targetCircleBoundingRect.top - container.getBoundingClientRect().top - 20*1.2;\n",
       "            \n",
       "            let leftOffset = 0;\n",
       "            leftOffset += targetCircleBoundingRect.left; // How far left the edge of the target circle is\n",
       "            leftOffset += targetCircleBoundingRect.width/2;  // We want the tooltip in the center, so add half the width of the circle\n",
       "            leftOffset -= container.getBoundingClientRect().left; // Account for the container position\n",
       "            leftOffset -= tooltipEl.node().getBoundingClientRect().width/2  // Subtract half the width of the tooltip to make sure it appears centered\n",
       "            tooltipEl.style(\"left\", (leftOffset) + \"px\");\n",
       "            tooltipEl.style(\"top\", (topOffset) + \"px\");\n",
       "        },\n",
       "        hide: () => {\n",
       "            tooltipEl.transition()\n",
       "                .duration(500)\n",
       "                .style(\"opacity\", 0);\n",
       "        },\n",
       "    }\n",
       "\n",
       "    const highlightFunctions = {\n",
       "        highlightDependentsOf: (d, clickedEl) => {\n",
       "            if (d.children) return; // Don't highlight when hovering on directory\n",
       "            const dependentDs = d3.selectAll(\".node--leaf\").nodes().filter(() => Math.random() < 0.1);\n",
       "            // console.log(dependentDs);\n",
       "            dependentDs.map((d) => {\n",
       "                d.classList.add(\"dependent\");\n",
       "            });\n",
       "        },\n",
       "        highlightSelected: (clickedEl) => {\n",
       "            clickedEl.classList.add(\"selected\");\n",
       "        },\n",
       "        removeHighlights: () => {\n",
       "            d3.selectAll(\".selected, .dependent\").nodes().map((el) => {\n",
       "                el.classList.remove(\"selected\");\n",
       "                el.classList.remove(\"dependent\");\n",
       "            });\n",
       "        },\n",
       "    }\n",
       "\n",
       "    const result = svg.append(\"g\")\n",
       "        .selectAll(\"circle\")\n",
       "        .data(root.descendants())\n",
       "        .enter().append('circle')\n",
       "        .attr(\"class\", function (d) {\n",
       "            if (!d.parent) return \"node node--root\";\n",
       "            if (d.children) return \"node\";\n",
       "            return \"node node--leaf\"\n",
       "        })\n",
       "        .attr(\"transform\", function (d) { return \"translate(\" + d.x + \",\" + d.y + \")\"; })\n",
       "        .style(\"fill\", (d) => {\n",
       "            if (enc_type == \"hotspot\") {\n",
       "                if (d.data.weight > 0.0 ) return \"darkred\";\n",
       "                else if (d.children) return color(d.depth);\n",
       "                else return \"WhiteSmoke\";\n",
       "            } else if (enc_type == \"main_dev\") {\n",
       "                if (d.data.weight > 0.0 ) return d.data.author_color;\n",
       "                else if (d.children) return color(d.depth);\n",
       "                else return \"WhiteSmoke\";\n",
       "            } else {\n",
       "                throw new Error(\"Unknown enclosure diagram type: \" + enc_type)\n",
       "            }\n",
       "        })\n",
       "        .style(\"fill-opacity\", (d) => {\n",
       "            if (enc_type == \"hotspot\") {\n",
       "                return d.data.weight; \n",
       "            } else if (enc_type == \"main_dev\") {\n",
       "                return d.data.effort;\n",
       "            } else {\n",
       "                throw new Error(\"Unknown enclosure diagram type: \" + enc_type)\n",
       "            }\n",
       "        })\n",
       "        .on(\"mouseenter\", (event, d) => {\n",
       "            tooltipFunctions.show(event, d);\n",
       "        })\n",
       "        .on(\"mouseout\", (event, d) => {\n",
       "            tooltipFunctions.hide(event, d);\n",
       "        })\n",
       "        .on('click', (event, d) => {\n",
       "            const clickedEl = event.target;\n",
       "            const clickedSelectedLeaf = clickedEl.classList.contains('selected');\n",
       "            const clickedDirectory = !clickedEl.classList.contains('node--leaf')\n",
       "            if (clickedSelectedLeaf || clickedDirectory) {\n",
       "                // Click already selected node\n",
       "                highlightFunctions.removeHighlights();\n",
       "            } else {\n",
       "                highlightFunctions.removeHighlights();\n",
       "                highlightFunctions.highlightSelected(clickedEl);\n",
       "                highlightFunctions.highlightDependentsOf(d, clickedEl);\n",
       "            }\n",
       "        })\n",
       "        // .on(\"wheel\", (event, d) => {\n",
       "        //     const findNodeToZoomInTo = (focus, selectedChild) => {\n",
       "        //         let result = selectedChild;\n",
       "        //         while (result.parent && result.parent != focus) {\n",
       "        //             result = result.parent;\n",
       "        //         }\n",
       "        //         return result;\n",
       "        //     };\n",
       "        //     const zoomIn = event.wheelDeltaY >= 0;\n",
       "        //     const nodeToMoveTo = zoomIn ? findNodeToZoomInTo(focus, d) : focus.parent ? focus.parent : focus;\n",
       "        //     zoom(null, nodeToMoveTo);\n",
       "        // });\n",
       "    return result;\n",
       "}\n",
       "\n",
       "define('enclosure_diagram_js', ['d3'], function (d3) {\n",
       "    function draw(container, json_file, enc_type) {\n",
       "        container.style.position = \"relative\";\n",
       "        let view;\n",
       "        const color = makeColor(d3);\n",
       "        const diameters = makeDiameters(container);\n",
       "        const root = makeRoot(d3, json_file, diameters);\n",
       "        let focus = root;\n",
       "        const svg = makeSvg(d3, container, diameters, color);\n",
       "        const tooltipEl = makeTooltip(d3, container);\n",
       "        const node = makeNode(d3, container, svg, root, tooltipEl, enc_type, zoom, color, focus);\n",
       "\n",
       "        zoomTo({\n",
       "            x: root.x,\n",
       "            y: root.y,\n",
       "            diameter: root.r * 2\n",
       "        });\n",
       "\n",
       "        function zoomTo(toZoomTo) {\n",
       "            const k = diameters.innerW / toZoomTo.diameter;\n",
       "            view = toZoomTo;\n",
       "        \n",
       "            const transformEl = (d) => {\n",
       "                const translateX = (d.x - toZoomTo.x) * k;\n",
       "                const translateY = (d.y - toZoomTo.y) * k;\n",
       "                return `translate(${translateX},${translateY})`\n",
       "            }\n",
       "            node.attr(\"transform\", transformEl);\n",
       "            node.attr(\"r\", d => d.r * k);\n",
       "        }\n",
       "\n",
       "        function zoom(event, d) {\n",
       "            const focus0 = focus;\n",
       "            focus = d;\n",
       "            const transition = svg.transition()\n",
       "                .duration(750)\n",
       "                .tween(\"zoom\", d => {\n",
       "                    const translatedView = [\n",
       "                        view.x,\n",
       "                        view.y,\n",
       "                        view.diameter,\n",
       "                    ];\n",
       "                    const i = d3.interpolateZoom(translatedView, [focus.x, focus.y, focus.r * 2]);\n",
       "                    return (t) => {\n",
       "                        const toZoomTo = {\n",
       "                            x: i(t)[0],\n",
       "                            y: i(t)[1],\n",
       "                            diameter: i(t)[2],\n",
       "                        }\n",
       "                        // zoomTo(toZoomTo, node, label); // I don't know why node and label were passed here...?\n",
       "                        zoomTo(toZoomTo);\n",
       "                    };\n",
       "                });\n",
       "        }\n",
       "\n",
       "    }\n",
       "    return draw;\n",
       "});"
      ],
      "text/plain": [
       "<IPython.core.display.Javascript object>"
      ]
     },
     "metadata": {},
     "output_type": "display_data"
    },
    {
     "data": {
      "text/html": [
       "<style>\n",
       "    .node {\n",
       "        cursor: pointer;\n",
       "    }\n",
       "\n",
       "    .node:hover {\n",
       "        stroke: #3A445A;\n",
       "        stroke-width: 0.5px;\n",
       "    }\n",
       "\n",
       "    .node--root {\n",
       "        stroke: #777;\n",
       "        stroke-width: 1px;\n",
       "    }\n",
       "\n",
       "    .node--leaf {\n",
       "        fill: white;\n",
       "        stroke: #777;\n",
       "        stroke-width: 1px;\n",
       "    }\n",
       "\n",
       "    .label {\n",
       "        font: 12px \"Helvetica Light\", Helvetica, Arial, sans-serif;\n",
       "        text-anchor: middle;\n",
       "        /* fill: white; */\n",
       "        fill: #3A445A;\n",
       "        /* text-shadow: 0 1px 0 #fff, 1px 0 0 #fff, -1px 0 0 #fff, 0 -1px 0 #fff; */\n",
       "        pointer-events: none;\n",
       "    }\n",
       "\n",
       "    /* .label,\n",
       "    .node--root,\n",
       "    .node--leaf {\n",
       "        pointer-events: none;\n",
       "    }\n",
       "    */\n",
       "\n",
       "    div.tooltip {\n",
       "        position: absolute;\n",
       "        text-align: center;\n",
       "        padding: 4px 8px;\n",
       "        font: 12px sans-serif;\n",
       "        background: lightsteelblue;\n",
       "        border: 0px;\n",
       "        border-radius: 8px;\n",
       "        pointer-events: none;\n",
       "    }\n",
       "</style>"
      ],
      "text/plain": [
       "<IPython.core.display.HTML object>"
      ]
     },
     "metadata": {},
     "output_type": "display_data"
    },
    {
     "data": {
      "application/javascript": [
       "\n",
       "            (function(element){\n",
       "                require(['enclosure_diagram_js'], function(enclosure_diagram_js) {\n",
       "                    enclosure_diagram_js(element.get(0), {\"name\": \"root\", \"children\": [{\"name\": \"src\", \"children\": [{\"name\": \"code_maat\", \"children\": [{\"name\": \"analysis\", \"children\": [{\"name\": \"logical_coupling.clj\", \"children\": [], \"size\": \"145\", \"weight\": 1.0}, {\"name\": \"authors.clj\", \"children\": [], \"size\": \"47\", \"weight\": 0.5384615384615385}, {\"name\": \"entities.clj\", \"children\": [], \"size\": \"36\", \"weight\": 0.3076923076923077}, {\"name\": \"summary.clj\", \"children\": [], \"size\": \"18\", \"weight\": 0.07692307692307693}, {\"name\": \"workarounds.clj\", \"children\": [], \"size\": \"7\", \"weight\": 0.07692307692307693}, {\"name\": \"math.clj\", \"children\": [], \"size\": \"5\", \"weight\": 0.15384615384615385}]}, {\"name\": \"app\", \"children\": [{\"name\": \"app.clj\", \"children\": [], \"size\": \"85\", \"weight\": 0.9615384615384616}]}, {\"name\": \"parsers\", \"children\": [{\"name\": \"svn.clj\", \"children\": [], \"size\": \"53\", \"weight\": 0.7307692307692308}, {\"name\": \"hiccup_based_parser.clj\", \"children\": [], \"size\": \"50\", \"weight\": 0.07692307692307693}, {\"name\": \"limitters.clj\", \"children\": [], \"size\": \"34\", \"weight\": 0.038461538461538464}, {\"name\": \"git.clj\", \"children\": [], \"size\": \"31\", \"weight\": 0.5384615384615385}, {\"name\": \"mercurial.clj\", \"children\": [], \"size\": \"21\", \"weight\": 0.07692307692307693}, {\"name\": \"xml.clj\", \"children\": [], \"size\": \"10\", \"weight\": 0.07692307692307693}]}, {\"name\": \"core.clj\", \"children\": [], \"size\": \"35\", \"weight\": 0.8076923076923077}, {\"name\": \"dataset\", \"children\": [{\"name\": \"dataset.clj\", \"children\": [], \"size\": \"27\", \"weight\": 0.15384615384615385}]}, {\"name\": \"test\", \"children\": [{\"name\": \"data_driven.clj\", \"children\": [], \"size\": \"23\", \"weight\": 0.038461538461538464}]}, {\"name\": \"output\", \"children\": [{\"name\": \"csv.clj\", \"children\": [], \"size\": \"14\", \"weight\": 0.11538461538461539}, {\"name\": \"filters.clj\", \"children\": [], \"size\": \"5\", \"weight\": 0.11538461538461539}]}]}]}, {\"name\": \"test\", \"children\": [{\"name\": \"code_maat\", \"children\": [{\"name\": \"end_to_end\", \"children\": [{\"name\": \"scenario_tests.clj\", \"children\": [], \"size\": \"91\", \"weight\": 0.7692307692307693}, {\"name\": \"simple.xml\", \"children\": [], \"size\": \"31\", \"weight\": 0.07692307692307693}, {\"name\": \"svn_live_data_test.clj\", \"children\": [], \"size\": \"14\", \"weight\": 0.038461538461538464}, {\"name\": \"mercurial_live_data_test.clj\", \"children\": [], \"size\": \"11\", \"weight\": 0.038461538461538464}, {\"name\": \"git_live_data_test.clj\", \"children\": [], \"size\": \"11\", \"weight\": 0.038461538461538464}, {\"name\": \"empty.xml\", \"children\": [], \"size\": \"3\", \"weight\": 0.038461538461538464}]}, {\"name\": \"analysis\", \"children\": [{\"name\": \"logical_coupling_test.clj\", \"children\": [], \"size\": \"89\", \"weight\": 0.5}, {\"name\": \"authors_test.clj\", \"children\": [], \"size\": \"26\", \"weight\": 0.3076923076923077}, {\"name\": \"entities_test.clj\", \"children\": [], \"size\": \"21\", \"weight\": 0.19230769230769232}, {\"name\": \"test_data.clj\", \"children\": [], \"size\": \"20\", \"weight\": 0.2692307692307693}]}, {\"name\": \"parsers\", \"children\": [{\"name\": \"svn_test.clj\", \"children\": [], \"size\": \"79\", \"weight\": 0.34615384615384615}, {\"name\": \"git_test.clj\", \"children\": [], \"size\": \"37\", \"weight\": 0.38461538461538464}, {\"name\": \"mercurial_test.clj\", \"children\": [], \"size\": \"26\", \"weight\": 0.07692307692307693}]}, {\"name\": \"dataset\", \"children\": [{\"name\": \"dataset_test.clj\", \"children\": [], \"size\": \"25\", \"weight\": 0.11538461538461539}]}]}]}, {\"name\": \"README.md\", \"children\": [], \"size\": \"87\", \"weight\": 0.42307692307692313}, {\"name\": \"project.clj\", \"children\": [], \"size\": \"17\", \"weight\": 0.7307692307692308}, {\"name\": \"doc\", \"children\": [{\"name\": \"intro.md\", \"children\": [], \"size\": \"2\", \"weight\": 0.038461538461538464}]}]}, 'hotspot');\n",
       "                });\n",
       "            })(element);\n",
       "        "
      ],
      "text/plain": [
       "<IPython.core.display.Javascript object>"
      ]
     },
     "metadata": {},
     "output_type": "display_data"
    },
    {
     "data": {
      "text/plain": [
       "<ipynb.fs.full.cs_analysis.HotspotAnalysis at 0x7ffaafc11f10>"
      ]
     },
     "execution_count": 44,
     "metadata": {},
     "output_type": "execute_result"
    }
   ],
   "source": [
    "hs_analysis.enclosure_diagram()"
   ]
  },
  {
   "cell_type": "markdown",
   "id": "5056ae69",
   "metadata": {},
   "source": [
    "### File Complexity Analysis\n",
    "Based off of file indentation patterns"
   ]
  },
  {
   "cell_type": "code",
   "execution_count": null,
   "id": "7d1c6fe7",
   "metadata": {},
   "outputs": [],
   "source": [
    "static_file_complexity = StaticFileComplexityAnalysis(\n",
    "    craft, \"Craft.Net.Server/MinecraftServer.cs\"\n",
    ")\n",
    "static_file_complexity.analyze()"
   ]
  },
  {
   "cell_type": "markdown",
   "id": "86223acf",
   "metadata": {},
   "source": [
    "##### Current file complexity stats"
   ]
  },
  {
   "cell_type": "code",
   "execution_count": null,
   "id": "4f6c3f1f",
   "metadata": {},
   "outputs": [],
   "source": [
    "static_file_complexity.df()"
   ]
  },
  {
   "cell_type": "markdown",
   "id": "2691bde8",
   "metadata": {},
   "source": [
    "##### File complexity trends"
   ]
  },
  {
   "cell_type": "code",
   "execution_count": null,
   "id": "6280a30d",
   "metadata": {},
   "outputs": [],
   "source": [
    "file_complexity_trend = TrendFileComplexityAnalysis(\n",
    "    craft,\n",
    "    \"Craft.Net.Server/MinecraftServer.cs\"\n",
    ")\n",
    "file_complexity_trend.analyze()\n",
    "file_complexity_trend.total_trend_line_plot().sd_trend_line_plot()"
   ]
  },
  {
   "cell_type": "markdown",
   "id": "a10ee46c",
   "metadata": {},
   "source": [
    "### Sum of Coupling Analysis"
   ]
  },
  {
   "cell_type": "code",
   "execution_count": null,
   "id": "72de0a7a",
   "metadata": {},
   "outputs": [],
   "source": [
    "# soc_analysis = SumOfCouplingAnalysis(craft).analyze()\n",
    "# soc_analysis.soc_data().head(10)\n",
    "# ftc_analysis = FileTemporalCouplingAnalysis(craft, \"Craft.Net.Server/MinecraftServer.cs\").analyze()\n",
    "# ftc_analysis.enclosure_diagram()"
   ]
  },
  {
   "cell_type": "markdown",
   "id": "9550d5ae",
   "metadata": {},
   "source": [
    "### System Coupling Analysis"
   ]
  },
  {
   "cell_type": "code",
   "execution_count": null,
   "id": "1d7ef2f2",
   "metadata": {},
   "outputs": [],
   "source": [
    "boundaries_dict = {\n",
    "    \"Code\": [\"src/code_maat\"],\n",
    "    \"Analysis Test\": [\"test/code_maat/analysis\"],\n",
    "    \"Dataset Test\": [\"test/code_maat/dataset\"],\n",
    "    \"End to end Test\": [\"test/code_maat/end_to_end\"],\n",
    "    \"Parsers Test\": [\"test/code_maat/parsers\"],\n",
    "}\n",
    "boundaries = SystemBoundaries(boundaries_dict)\n",
    "craft = ProjectForAnalysis(\"/home/brombaut/work/code-maat\", system_boundaries=boundaries)\n",
    "coupling_data = SystemCouplingAnalysis(craft).analyze().df()\n",
    "coupling_data"
   ]
  },
  {
   "cell_type": "code",
   "execution_count": null,
   "id": "cbc9eb52",
   "metadata": {},
   "outputs": [],
   "source": [
    "# Different example\n",
    "benrombautca = ProjectForAnalysis(\"/home/brombaut/work/benrombautca\")\n",
    "coupling_data = SystemCouplingAnalysis(benrombautca).analyze().df()\n",
    "coupling_data.head()"
   ]
  },
  {
   "cell_type": "markdown",
   "id": "37fb9497",
   "metadata": {},
   "source": [
    "### File Coupling Analysis"
   ]
  },
  {
   "cell_type": "code",
   "execution_count": null,
   "id": "16aa8562",
   "metadata": {},
   "outputs": [],
   "source": [
    "benrombautca = ProjectForAnalysis(\"/home/brombaut/work/benrombautca\")\n",
    "file_coupling_analysis = FileCouplingAnalysis(benrombautca, \"src/bookshelf/BookshelfSection.vue\")\n",
    "file_coupling_analysis.analyze().df()"
   ]
  },
  {
   "cell_type": "code",
   "execution_count": null,
   "id": "0af2e8fb",
   "metadata": {},
   "outputs": [],
   "source": [
    "file_coupling_analysis.analyze().enclosure_diagram()"
   ]
  },
  {
   "cell_type": "markdown",
   "id": "4705a9fe",
   "metadata": {},
   "source": [
    "### Parallel Work Analysis"
   ]
  },
  {
   "cell_type": "code",
   "execution_count": null,
   "id": "125189f4",
   "metadata": {},
   "outputs": [],
   "source": [
    "craft = ProjectForAnalysis(\"/home/brombaut/work/Craft.Net\")\n",
    "an = ParallelWorkAnalysis(craft)\n",
    "an.analyze()\n",
    "an.df().head()"
   ]
  },
  {
   "cell_type": "code",
   "execution_count": null,
   "id": "f2d867b2",
   "metadata": {},
   "outputs": [],
   "source": [
    "an.enclosure_diagram()"
   ]
  },
  {
   "cell_type": "code",
   "execution_count": null,
   "id": "d903130a",
   "metadata": {},
   "outputs": [],
   "source": [
    "craft = ProjectForAnalysis(\"/home/brombaut/work/Craft.Net\")\n",
    "an = MainDeveloperAnalysis(craft)\n",
    "an.analyze()\n",
    "an.df().head()"
   ]
  },
  {
   "cell_type": "code",
   "execution_count": null,
   "id": "4a847442",
   "metadata": {},
   "outputs": [],
   "source": [
    "an.enclosure_diagram()"
   ]
  },
  {
   "cell_type": "code",
   "execution_count": null,
   "id": "06ee3a70",
   "metadata": {},
   "outputs": [],
   "source": []
  },
  {
   "cell_type": "code",
   "execution_count": null,
   "id": "3b3897ed",
   "metadata": {},
   "outputs": [],
   "source": []
  }
 ],
 "metadata": {
  "kernelspec": {
   "display_name": "Python 3 (ipykernel)",
   "language": "python",
   "name": "python3"
  },
  "language_info": {
   "codemirror_mode": {
    "name": "ipython",
    "version": 3
   },
   "file_extension": ".py",
   "mimetype": "text/x-python",
   "name": "python",
   "nbconvert_exporter": "python",
   "pygments_lexer": "ipython3",
   "version": "3.9.7"
  }
 },
 "nbformat": 4,
 "nbformat_minor": 5
}
