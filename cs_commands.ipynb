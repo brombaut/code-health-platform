{
 "cells": [
  {
   "cell_type": "code",
   "execution_count": 1,
   "id": "87cf329e",
   "metadata": {},
   "outputs": [],
   "source": [
    "import os\n",
    "import subprocess\n",
    "import shlex\n",
    "import sys\n",
    "import json\n",
    "from IPython.display import clear_output\n",
    "from ipynb.fs.full.cs_filepaths import FilePaths"
   ]
  },
  {
   "cell_type": "markdown",
   "id": "b725cae0",
   "metadata": {},
   "source": [
    "### Command"
   ]
  },
  {
   "cell_type": "code",
   "execution_count": 2,
   "id": "11973294",
   "metadata": {},
   "outputs": [],
   "source": [
    "class Command:\n",
    "    file_paths = FilePaths()\n",
    "    \n",
    "    def __init__(self, command):\n",
    "        self.command = command\n",
    "        self.stdout = b\"\"\n",
    "        self.stderr = b\"\"\n",
    "    \n",
    "    def execute(self):\n",
    "        print(f\"Executing: {self.command}\")\n",
    "        process = subprocess.Popen(\n",
    "#             shlex.split(self.command),\n",
    "            self.command,\n",
    "            stdout=subprocess.PIPE, \n",
    "            stderr=subprocess.PIPE,\n",
    "            shell=True\n",
    "        )\n",
    "        stdout, stderr = process.communicate()\n",
    "        self.stdout = stdout\n",
    "        self.stderr = stderr\n",
    "        if self.has_error():\n",
    "            raise Exception(self.err_as_str())\n",
    "        clear_output(wait=False)\n",
    "        return self\n",
    "    \n",
    "    def has_error(self):\n",
    "        return len(self.stderr) > 0\n",
    "    \n",
    "    def out_as_bytes(self):\n",
    "        return self.stdout\n",
    "    \n",
    "    def err_as_bytes(self):\n",
    "        return self.stderr\n",
    "    \n",
    "    def out_as_str(self):\n",
    "        return self.stdout.decode(\"utf-8\")\n",
    "    \n",
    "    def err_as_str(self):\n",
    "        return self.stderr.decode(\"utf-8\")\n",
    "    \n",
    "    def write_out_to_file(self, file_name):\n",
    "        with open(file_name, 'wb') as f: \n",
    "            f.write(self.out_as_bytes())\n",
    "        return self\n",
    "    \n",
    "    def out_file(self):\n",
    "        raise Exception(\"Method not implemented\")"
   ]
  },
  {
   "cell_type": "code",
   "execution_count": 3,
   "id": "b7713885",
   "metadata": {},
   "outputs": [],
   "source": [
    "class GitCheckoutCommand(Command):\n",
    "    def __init__(self, git_dir, commit):\n",
    "        command_str = f\"git -C {git_dir} checkout {commit}\"\n",
    "        super().__init__(command_str)\n",
    "    \n",
    "    def execute(self):\n",
    "        # I don't know why but executing git checkout writes to stderr\n",
    "        try:\n",
    "            super().execute()\n",
    "        except Exception as e:\n",
    "            if not \"HEAD is now at\" in str(e):\n",
    "                raise(e)\n",
    "            else:\n",
    "                pass\n",
    "        return self"
   ]
  },
  {
   "cell_type": "code",
   "execution_count": 13,
   "id": "59fe55ba",
   "metadata": {},
   "outputs": [],
   "source": [
    "class GitLogCommand(Command):\n",
    "    def __init__(self, git_file, before=None, after=None):\n",
    "        command_str = f\"git --git-dir {git_file} \\\n",
    "            log --pretty=format:'[%h] %an %ad %s' --date=short --numstat\"\n",
    "        if after:\n",
    "            command_str = command_str + f\" --after={after}\"\n",
    "        if before:\n",
    "            command_str = command_str + f\" --before={before}\"\n",
    "        super().__init__(command_str)\n",
    "    \n",
    "    def execute(self):\n",
    "        super().execute()\n",
    "        # Raise exception if no log output was generated\n",
    "        if len(self.out_as_bytes()) == 0:\n",
    "            raise Exception(\"No log output generated\")\n",
    "        return self\n",
    "    \n",
    "    def write_out_to_file(self):\n",
    "        return super().write_out_to_file(self.out_file())\n",
    "    \n",
    "    def out_file(self):\n",
    "        return self.file_paths.log_file"
   ]
  },
  {
   "cell_type": "code",
   "execution_count": 5,
   "id": "cdeab08b",
   "metadata": {},
   "outputs": [],
   "source": [
    "class GetLatestCommitShaBeforeDate(Command):\n",
    "    def __init__(self, git_file, before=None):\n",
    "        command = f\"git --git-dir {git_file} rev-list -n 1 HEAD\"\n",
    "        if before is not None:\n",
    "            command = f\"{command} --before='{before}'\"\n",
    "        super().__init__(command)\n",
    "        \n",
    "    def execute(self):\n",
    "        super().execute()\n",
    "        # Raise exception if no log output was generated\n",
    "        if len(self.out_as_bytes()) == 0:\n",
    "            raise Exception(\"No log output generated\")\n",
    "        return self\n",
    "    \n",
    "class GetEarliestCommitShaAfterDate(Command):\n",
    "    def __init__(self, git_file, after=None):\n",
    "        command = f\"git --git-dir {git_file} log --reverse --pretty=format:%H\"\n",
    "        if after is not None:\n",
    "            command = f\"{command} --after='{after}'\"\n",
    "        command = f\"{command} | head -n 1\"\n",
    "        print(command)\n",
    "        super().__init__(command)\n",
    "        \n",
    "    def execute(self):\n",
    "        super().execute()\n",
    "        # Raise exception if no log output was generated\n",
    "        if len(self.out_as_bytes()) == 0:\n",
    "            raise Exception(\"No log output generated\")\n",
    "        return self"
   ]
  },
  {
   "cell_type": "code",
   "execution_count": 6,
   "id": "a0cca308",
   "metadata": {},
   "outputs": [],
   "source": [
    "class MaatCommand(Command):\n",
    "    def __init__(self, args_str):\n",
    "        super().__init__(f\"java -jar {self.file_paths.codemaat_jar} {args_str}\")\n",
    "        \n",
    "    def write_out_to_file(self):\n",
    "        return super().write_out_to_file(self.out_file())\n",
    "    \n",
    "    def out_file(self):\n",
    "        return self.file_paths.maat_output_csv"
   ]
  },
  {
   "cell_type": "code",
   "execution_count": 7,
   "id": "e48829a6",
   "metadata": {},
   "outputs": [],
   "source": [
    "class ClocCommand(Command):\n",
    "    def __init__(self, args_str):\n",
    "        super().__init__(f\"cloc {args_str}\")\n",
    "        \n",
    "    def write_out_to_file(self):\n",
    "        return super().write_out_to_file(self.out_file())\n",
    "    \n",
    "    def out_file(self):\n",
    "        return self.file_paths.cloc_lines_csv"
   ]
  },
  {
   "cell_type": "code",
   "execution_count": 8,
   "id": "662c842e",
   "metadata": {},
   "outputs": [],
   "source": [
    "class MergeComplexityAndFrequency(Command):\n",
    "    def __init__(self, freqs_file, lines_file):\n",
    "        command = f\"python \\\n",
    "            {self.file_paths.cs_scripts}/merge_comp_freqs.py \\\n",
    "            {freqs_file} \\\n",
    "            {lines_file}\"\n",
    "        super().__init__(command)"
   ]
  },
  {
   "cell_type": "code",
   "execution_count": 10,
   "id": "cefc0627",
   "metadata": {},
   "outputs": [],
   "source": [
    "class FileComplexityCommand(Command):\n",
    "    def __init__(self, file_path):\n",
    "        command = f\"python {self.file_paths.cs_scripts}/complexity_analysis.py {file_path}\"\n",
    "        super().__init__(command)"
   ]
  },
  {
   "cell_type": "code",
   "execution_count": 11,
   "id": "cbc17807",
   "metadata": {},
   "outputs": [],
   "source": [
    "class FileComplexityTrendCommand(Command):\n",
    "    def __init__(self, git_dir, relative_file_path, start_commit, end_commit):\n",
    "        command = f\"python {self.file_paths.cs_scripts}/git_complexity_trend.py \\\n",
    "            --git-dir {git_dir} \\\n",
    "            --file {relative_file_path} \\\n",
    "            --start {start_commit} \\\n",
    "            --end {end_commit}\"\n",
    "        super().__init__(command)"
   ]
  },
  {
   "cell_type": "code",
   "execution_count": 9,
   "id": "177a8fc3",
   "metadata": {},
   "outputs": [],
   "source": [
    "class CreateEnclosureDiagramJson(Command):\n",
    "    def __init__(self, freqs_file, lines_file, weight_column=1):\n",
    "        command = f\"python {self.file_paths.cs_scripts}/csv_as_enclosure_json.py \\\n",
    "            --structure {lines_file} \\\n",
    "            --weights {freqs_file} \\\n",
    "            --weightcolumn {weight_column}\"\n",
    "        super().__init__(command)"
   ]
  },
  {
   "cell_type": "code",
   "execution_count": 12,
   "id": "c8d41de4",
   "metadata": {},
   "outputs": [],
   "source": [
    "class CreateMainDevEnclosureDiagramJson(Command):\n",
    "    def __init__(self, lines_file, main_devs_file, author_colours_file):\n",
    "        command = f\"python {self.file_paths.cs_scripts}/csv_main_dev_as_knowledge_json.py \\\n",
    "            --structure {lines_file} \\\n",
    "            --owners {main_devs_file} \\\n",
    "            --authors {author_colours_file}\"\n",
    "        super().__init__(command)"
   ]
  },
  {
   "cell_type": "code",
   "execution_count": null,
   "id": "1bfcfb4e",
   "metadata": {},
   "outputs": [],
   "source": []
  }
 ],
 "metadata": {
  "kernelspec": {
   "display_name": "Python 3 (ipykernel)",
   "language": "python",
   "name": "python3"
  },
  "language_info": {
   "codemirror_mode": {
    "name": "ipython",
    "version": 3
   },
   "file_extension": ".py",
   "mimetype": "text/x-python",
   "name": "python",
   "nbconvert_exporter": "python",
   "pygments_lexer": "ipython3",
   "version": "3.9.7"
  }
 },
 "nbformat": 4,
 "nbformat_minor": 5
}
