{
 "cells": [
  {
   "cell_type": "markdown",
   "id": "c30841e0-9ae8-472d-8168-b172879b89cb",
   "metadata": {
    "tags": []
   },
   "source": [
    "## Prerequisits\n",
    "- CodeMaat (installed on PATH or have the JAR present)\n",
    "- Java (required by CodeMaat)\n",
    "- cloc "
   ]
  },
  {
   "cell_type": "code",
   "execution_count": 2,
   "id": "66a21771-6ee7-4e61-8633-94a24b0b6b8f",
   "metadata": {},
   "outputs": [],
   "source": [
    "import subprocess"
   ]
  },
  {
   "cell_type": "code",
   "execution_count": 89,
   "id": "27365ba5-ccb3-4901-afa5-820f17adb44d",
   "metadata": {},
   "outputs": [],
   "source": [
    "# PROJECT_TO_EXAMINE = \"/home/brombaut/work/code-maat\"\n",
    "# PROJECT_TO_EXAMINE = \"/home/brombaut/work/code-maat\"\n",
    "GENERATED_FILES = \"./generated-files\"\n",
    "CS_SCRIPTS = \"./cs-scripts\"\n",
    "EVO_LOG_FILE = f\"{GENERATED_FILES}/maat_evo.log\"\n",
    "FREQS_CSV = f\"{GENERATED_FILES}/maat_freqs.csv\"\n",
    "LINES_CSV = f\"{GENERATED_FILES}/maat_lines.csv\""
   ]
  },
  {
   "cell_type": "code",
   "execution_count": 4,
   "id": "61932417-251a-4cf0-827a-74fe529c2f9d",
   "metadata": {},
   "outputs": [],
   "source": [
    "def send_command_and_receive_output(split_command):\n",
    "    process = subprocess.Popen(\n",
    "        split_command,\n",
    "        stdout=subprocess.PIPE, \n",
    "        stderr=subprocess.PIPE\n",
    "    )\n",
    "    stdout, stderr = process.communicate()\n",
    "    return stdout, stderr"
   ]
  },
  {
   "cell_type": "code",
   "execution_count": 23,
   "id": "af6f1ceb-646a-4683-956c-bcb8e382150a",
   "metadata": {},
   "outputs": [],
   "source": [
    "def write_bytes_to_file(filebytes, filename):\n",
    "    with open(filename, 'wb') as f: \n",
    "        f.write(filebytes)"
   ]
  },
  {
   "cell_type": "code",
   "execution_count": 28,
   "id": "0905f749-52dc-4c93-8ebc-f83b3cf3016e",
   "metadata": {},
   "outputs": [],
   "source": [
    "def btos(b):\n",
    "    return b.decode(\"utf-8\")"
   ]
  },
  {
   "cell_type": "code",
   "execution_count": 77,
   "id": "ea5eb0e1-437a-4022-ade6-f5547d1ee38a",
   "metadata": {},
   "outputs": [],
   "source": [
    "def print_bytes(b):\n",
    "    print(btos(b))"
   ]
  },
  {
   "cell_type": "code",
   "execution_count": 73,
   "id": "6959f98f-7d5f-4b7b-a077-a51b18a04e8c",
   "metadata": {},
   "outputs": [],
   "source": [
    "def generate_log_file(git_dir, before=None, after=None):\n",
    "    split_command = [\n",
    "        'git',\n",
    "        '--git-dir',\n",
    "        f'{git_dir}/.git',\n",
    "        'log',\n",
    "        \"--pretty=format:[%h] %an %ad %s\",\n",
    "        '--date=short',\n",
    "        '--numstat',\n",
    "    ]\n",
    "    if before is not None:\n",
    "        split_command.append(f'--before={before}')\n",
    "    if after is not None: # TODO: Test this...is the flag \"after\"?\n",
    "        split_command.append(f'--after={after}')\n",
    "    stdout, stderr = send_command_and_receive_output(split_command)\n",
    "    if len(stderr) > 0:\n",
    "        raise Exception(stderr)\n",
    "    return stdout"
   ]
  },
  {
   "cell_type": "code",
   "execution_count": 69,
   "id": "bd115423-5777-4bb6-bc8c-90ad8cf8f8b0",
   "metadata": {},
   "outputs": [],
   "source": [
    "def maat(args):\n",
    "    CODEMAAT_JAR = \"./code-maat-jar/code-maat-1.1-SNAPSHOT-standalone.jar\"\n",
    "    MAAT = f\"java {CODEMAAT_JAR}\"\n",
    "    split_command = [\n",
    "        \"java\",\n",
    "        \"-jar\",\n",
    "        CODEMAAT_JAR,\n",
    "        *args.split(\" \")\n",
    "    ]\n",
    "    # print(split_command)\n",
    "    stdout, stderr = send_command_and_receive_output(split_command)\n",
    "    if len(stderr) > 0:\n",
    "        raise Exception(stderr)\n",
    "    return stdout"
   ]
  },
  {
   "cell_type": "code",
   "execution_count": 80,
   "id": "af453d31-b4f2-4f72-b94e-41fb360b88b7",
   "metadata": {},
   "outputs": [],
   "source": [
    "def cloc(args):\n",
    "    split_command = [\n",
    "        \"cloc\",\n",
    "        *args.split(\" \")\n",
    "    ]\n",
    "    # print(split_command)\n",
    "    stdout, stderr = send_command_and_receive_output(split_command)\n",
    "    if len(stderr) > 0:\n",
    "        raise Exception(stderr)\n",
    "    return stdout"
   ]
  },
  {
   "cell_type": "markdown",
   "id": "5385ccdd-70b3-4e59-b5ef-6b5eb6d25368",
   "metadata": {},
   "source": [
    "### Generate Log File"
   ]
  },
  {
   "cell_type": "code",
   "execution_count": 75,
   "id": "076e17fb-8ed4-45e6-8c10-af874cce0c24",
   "metadata": {},
   "outputs": [],
   "source": [
    "log_file_bytes = generate_log_file(PROJECT_TO_EXAMINE, before=\"2013-11-01\")\n",
    "write_bytes_to_file(log_file_bytes, EVO_LOG_FILE)"
   ]
  },
  {
   "cell_type": "markdown",
   "id": "c8e8af6b-1b86-4065-bbb7-5be50764221c",
   "metadata": {},
   "source": [
    "### Explore Evolution"
   ]
  },
  {
   "cell_type": "code",
   "execution_count": null,
   "id": "167d54c8-0339-421a-9a0b-fe2659a49499",
   "metadata": {},
   "outputs": [],
   "source": [
    "# print_bytes(maat(f\"-l {EVO_LOG_FILE} -c git -a summary\"))\n",
    "# print_bytes(maat(f\"-l {EVO_LOG_FILE} -c git -a revisions\"))"
   ]
  },
  {
   "cell_type": "markdown",
   "id": "2bc9db8c-86c5-4a2f-958d-1ceece73824d",
   "metadata": {},
   "source": [
    "### Analyze Change Frequencies"
   ]
  },
  {
   "cell_type": "code",
   "execution_count": 85,
   "id": "24101daa-f9ae-45f0-8898-26838370d28d",
   "metadata": {},
   "outputs": [],
   "source": [
    "freq_csv_bytes = maat(f\"-l {EVO_LOG_FILE} -c git -a revisions\")\n",
    "write_bytes_to_file(freq_csv_bytes, FREQS_CSV)"
   ]
  },
  {
   "cell_type": "markdown",
   "id": "f713c4f9-d7a2-4216-9b67-54ec1b6e6372",
   "metadata": {},
   "source": [
    "### Count Lines of Code"
   ]
  },
  {
   "cell_type": "code",
   "execution_count": 86,
   "id": "3270b1a2-e691-47e6-adcb-a05b6a57552d",
   "metadata": {},
   "outputs": [],
   "source": [
    "lines_csv_bytes = cloc(f\"{PROJECT_TO_EXAMINE} --by-file --csv --quiet\")\n",
    "write_bytes_to_file(lines_csv_bytes, LINES_CSV)"
   ]
  },
  {
   "cell_type": "markdown",
   "id": "71efe86e-7bbd-4759-9939-70c1f7e10a58",
   "metadata": {},
   "source": [
    "### Merge Complexity and Effort"
   ]
  },
  {
   "cell_type": "code",
   "execution_count": 96,
   "id": "676e3ba2-8fab-4760-b8c3-92483ef6ff77",
   "metadata": {},
   "outputs": [],
   "source": [
    "def merge_complexity_and_effort(freqs_file, lines_file):\n",
    "    split_command = [\n",
    "        \"python\",\n",
    "        f\"{CS_SCRIPTS}/merge_comp_freqs.py\",\n",
    "        freqs_file,\n",
    "        lines_file\n",
    "    ]\n",
    "    # print(split_command)\n",
    "    stdout, stderr = send_command_and_receive_output(split_command)\n",
    "    if len(stderr) > 0:\n",
    "        raise Exception(btos(stderr))\n",
    "    return stdout"
   ]
  },
  {
   "cell_type": "code",
   "execution_count": 98,
   "id": "5f2bfa22-23eb-4a00-a664-da57c04f4b4a",
   "metadata": {},
   "outputs": [
    {
     "name": "stdout",
     "output_type": "stream",
     "text": [
      "module,revisions,code\n",
      "src/code_maat/analysis/logical_coupling.clj,26,145\n",
      "src/code_maat/app/app.clj,25,85\n",
      "src/code_maat/core.clj,21,35\n",
      "test/code_maat/end_to_end/scenario_tests.clj,20,91\n",
      "project.clj,19,17\n",
      "src/code_maat/parsers/svn.clj,19,53\n",
      "src/code_maat/parsers/git.clj,14,31\n",
      "src/code_maat/analysis/authors.clj,14,47\n",
      "test/code_maat/analysis/logical_coupling_test.clj,13,89\n",
      "README.md,11,87\n",
      "test/code_maat/parsers/git_test.clj,10,37\n",
      "test/code_maat/parsers/svn_test.clj,9,79\n",
      "test/code_maat/analysis/authors_test.clj,8,26\n",
      "src/code_maat/analysis/entities.clj,8,36\n",
      "test/code_maat/analysis/test_data.clj,7,20\n",
      "test/code_maat/analysis/entities_test.clj,5,21\n",
      "src/code_maat/analysis/math.clj,4,5\n",
      "src/code_maat/dataset/dataset.clj,4,27\n",
      "src/code_maat/output/filters.clj,3,5\n",
      "test/code_maat/dataset/dataset_test.clj,3,25\n",
      "src/code_maat/output/csv.clj,3,14\n",
      "src/code_maat/analysis/summary.clj,2,18\n",
      "src/code_maat/analysis/workarounds.clj,2,7\n",
      "src/code_maat/parsers/xml.clj,2,10\n",
      "test/code_maat/end_to_end/simple.xml,2,31\n",
      "test/code_maat/parsers/mercurial_test.clj,2,26\n",
      "src/code_maat/parsers/mercurial.clj,2,21\n",
      "src/code_maat/parsers/hiccup_based_parser.clj,2,50\n",
      "src/code_maat/parsers/limitters.clj,1,34\n",
      "test/code_maat/end_to_end/svn_live_data_test.clj,1,14\n",
      "test/code_maat/end_to_end/empty.xml,1,3\n",
      "test/code_maat/end_to_end/git_live_data_test.clj,1,11\n",
      "src/code_maat/test/data_driven.clj,1,23\n",
      "doc/intro.md,1,2\n",
      "test/code_maat/end_to_end/mercurial_live_data_test.clj,1,11\n",
      "\n"
     ]
    }
   ],
   "source": [
    "print_bytes(merge_complexity_and_effort(FREQS_CSV, LINES_CSV))"
   ]
  },
  {
   "cell_type": "code",
   "execution_count": 78,
   "id": "8da99256-0bf3-4336-bc78-55b142f349a2",
   "metadata": {},
   "outputs": [
    {
     "name": "stdout",
     "output_type": "stream",
     "text": [
      "statistic,value\n",
      "number-of-commits,88\n",
      "number-of-entities,45\n",
      "number-of-entities-changed,283\n",
      "number-of-authors,2\n",
      "\n"
     ]
    }
   ],
   "source": [
    "# print_bytes(maat(f\"-l {EVO_LOG_FILE} -c git -a summary\"))\n",
    "# print_bytes(maat(f\"-l {EVO_LOG_FILE} -c git -a revisions\"))"
   ]
  },
  {
   "cell_type": "code",
   "execution_count": null,
   "id": "e2b204a6-f67a-44c0-a095-de42deed4d74",
   "metadata": {},
   "outputs": [],
   "source": []
  },
  {
   "cell_type": "code",
   "execution_count": 10,
   "id": "733dd9db-8d79-4f8c-9d7b-2876d798730c",
   "metadata": {},
   "outputs": [],
   "source": []
  },
  {
   "cell_type": "code",
   "execution_count": 12,
   "id": "6639cd39-8f3f-4a1e-a4ae-7d2697fc31d7",
   "metadata": {},
   "outputs": [],
   "source": []
  },
  {
   "cell_type": "code",
   "execution_count": null,
   "id": "94fbfa08-9bae-4462-b366-6865e33ed8ec",
   "metadata": {},
   "outputs": [],
   "source": []
  }
 ],
 "metadata": {
  "kernelspec": {
   "display_name": "Python 3 (ipykernel)",
   "language": "python",
   "name": "python3"
  },
  "language_info": {
   "codemirror_mode": {
    "name": "ipython",
    "version": 3
   },
   "file_extension": ".py",
   "mimetype": "text/x-python",
   "name": "python",
   "nbconvert_exporter": "python",
   "pygments_lexer": "ipython3",
   "version": "3.9.7"
  }
 },
 "nbformat": 4,
 "nbformat_minor": 5
}
