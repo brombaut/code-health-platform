{
 "cells": [
  {
   "cell_type": "code",
   "execution_count": 12,
   "id": "b454ee74",
   "metadata": {},
   "outputs": [],
   "source": [
    "import os\n",
    "from ipynb.fs.full.cs_filepaths import FilePaths\n",
    "from ipynb.fs.full.cs_commands import \\\n",
    "    GitCheckoutCommand, GetEarliestCommitShaAfterDate, GetLatestCommitShaBeforeDate"
   ]
  },
  {
   "cell_type": "markdown",
   "id": "d6795edf",
   "metadata": {},
   "source": [
    "### ProjectForAnalysis\n",
    "\n",
    "Represents the local git repo for your project that you will perform different types of analysis on. To specify a timespan for your analysis, you can include the `before` and/or `after` parameters in the constructor. These dates will then be used to determine the commits that fall within this timespan for your analysis.\n",
    "\n",
    "###### Example Usage\n",
    "\n",
    "```python\n",
    "boundaries_dict = {\n",
    "    \"Code\": [\"src/code_maat\"],\n",
    "    \"Test\": [\"test/code_maat\"],\n",
    "}\n",
    "code_maat = ProjectForAnalysis(\n",
    "    \"/home/brombaut/work/code-maat\",\n",
    "    before=\"2013-09-05\",\n",
    "    after=\"2012-01-01\",\n",
    "    system_boundaries=SystemBoundaries(boundaries_dict)\n",
    ")\n",
    "```"
   ]
  },
  {
   "cell_type": "code",
   "execution_count": 11,
   "id": "9575297d",
   "metadata": {},
   "outputs": [],
   "source": [
    "class ProjectForAnalysis:\n",
    "    def __init__(self, dir_to_analyze, before=None, after=None, system_boundaries=None):\n",
    "        self.dir_to_analyze = dir_to_analyze\n",
    "        self.git_file = dir_to_analyze \\\n",
    "            if dir_to_analyze.endswith(\"/.git\") \\\n",
    "            else f\"{dir_to_analyze}/.git\"\n",
    "        self.before = before\n",
    "        self.after = after\n",
    "        if self.before:\n",
    "            print(f\"ALERT: Because you've specific a 'before' date, \\\n",
    "                checking out {self.last_commit_in_timespan()}\")\n",
    "            checkout_command = GitCheckoutCommand(\n",
    "                self.dir_to_analyze, self.last_commit_in_timespan())\n",
    "            checkout_command.execute()\n",
    "        self.system_boundaries=system_boundaries\n",
    "    \n",
    "    def first_commit_in_timespan(self):\n",
    "        command = GetEarliestCommitShaAfterDate(self.git_file, self.after)\n",
    "        return command.execute().out_as_str().strip()\n",
    "    \n",
    "    def last_commit_in_timespan(self):\n",
    "        command = GetLatestCommitShaBeforeDate(self.git_file, self.before)\n",
    "        return command.execute().out_as_str().strip()\n",
    "    \n",
    "    def throw_if_file_does_not_exist(self, relative_file_name):\n",
    "        if not os.path.isfile(f\"{self.dir_to_analyze}/{relative_file_name}\"):\n",
    "            raise Exception(f\"File not found: {self.dir_to_analyze}/{relative_file_name}\")\n",
    "    \n",
    "    def has_system_boundaries(self):\n",
    "        return self.system_boundaries is not None\n",
    "    \n",
    "    def system_boundaries_file(self):\n",
    "        if not self.has_system_boundaries():\n",
    "            return None\n",
    "        self.system_boundaries.write_to_file()\n",
    "        return self.system_boundaries.boundaries_file"
   ]
  },
  {
   "cell_type": "markdown",
   "id": "fa47efc2",
   "metadata": {},
   "source": [
    "### SystemBoundaries\n",
    "\n",
    "Represents the boundaries of your system\n",
    "\n",
    "###### Example Usage\n",
    "\n",
    "```python\n",
    "boundaries_dict = {\n",
    "    \"Code\": [\"src/code_maat\"],\n",
    "    \"Test\": [\"test/code_maat\"],\n",
    "}\n",
    "boundaries = SystemBoundaries(boundaries_dict)\n",
    "```"
   ]
  },
  {
   "cell_type": "code",
   "execution_count": 5,
   "id": "926a68a3",
   "metadata": {},
   "outputs": [],
   "source": [
    "class SystemBoundaries:\n",
    "    def __init__(self, boundaries_dict):\n",
    "        self.boundaries_dict = boundaries_dict\n",
    "        self.boundaries_file = FilePaths().boundaries_textfile\n",
    "        \n",
    "    def write_to_file(self):\n",
    "        out_str = \"\"\n",
    "        for boundary, matches in self.boundaries_dict.items():\n",
    "            for m in matches:\n",
    "                out_str += f\"{m} => {boundary}\\n\"\n",
    "        with open(self.out_file(), 'w') as f: \n",
    "            f.write(out_str)\n",
    "            \n",
    "    def out_file(self):\n",
    "        return self.boundaries_file"
   ]
  },
  {
   "cell_type": "markdown",
   "id": "c7711c80",
   "metadata": {},
   "source": [
    "### AuthorColour\n",
    "\n",
    "Represents a author-colour relationship for enclosure diagrams of developer system knowledge.\n",
    "\n",
    "###### Example Usage\n",
    "\n",
    "```python\n",
    "author_color_dict = {\n",
    "    \"Martin Odersky\": \"darkred\",\n",
    "    \"Paul Phillips\": \"green\",\n",
    "}\n",
    "author_colors = AuthorColor(author_color_dict)\n",
    "```"
   ]
  },
  {
   "cell_type": "code",
   "execution_count": 15,
   "id": "280f8edb",
   "metadata": {},
   "outputs": [],
   "source": [
    "import random\n",
    "\n",
    "class AuthorColor:\n",
    "    def __init__(self, author_color_dict):\n",
    "        self.author_color_dict = author_color_dict\n",
    "        self.author_color_file = FilePaths().author_color_textfile\n",
    "        \n",
    "    def write_to_file(self):\n",
    "        out_str = \"author,color\\n\"\n",
    "        for author, color in self.author_color_dict.items():\n",
    "            out_str += f\"{author},{color}\\n\"\n",
    "        with open(self.out_file(), 'w') as f: \n",
    "            f.write(out_str)\n",
    "            \n",
    "    def out_file(self):\n",
    "        return self.author_color_file\n",
    "    \n",
    "    @staticmethod\n",
    "    def from_authors_list(authors):\n",
    "        def random_hex_color():\n",
    "            hexadecimal = f\"#{''.join([random.choice('ABCDEF0123456789') for i in range(6)])}\"\n",
    "            return hexadecimal\n",
    "        author_color_dict = dict()\n",
    "        for a in authors:\n",
    "            author_color_dict[a] = random_hex_color()\n",
    "        return AuthorColor(author_color_dict)"
   ]
  }
 ],
 "metadata": {
  "kernelspec": {
   "display_name": "Python 3 (ipykernel)",
   "language": "python",
   "name": "python3"
  },
  "language_info": {
   "codemirror_mode": {
    "name": "ipython",
    "version": 3
   },
   "file_extension": ".py",
   "mimetype": "text/x-python",
   "name": "python",
   "nbconvert_exporter": "python",
   "pygments_lexer": "ipython3",
   "version": "3.9.7"
  }
 },
 "nbformat": 4,
 "nbformat_minor": 5
}
