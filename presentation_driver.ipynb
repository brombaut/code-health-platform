{
 "cells": [
  {
   "cell_type": "markdown",
   "id": "57fe8033",
   "metadata": {},
   "source": [
    "# Code Health Monitoring Tool - Driver"
   ]
  },
  {
   "cell_type": "markdown",
   "id": "1531e3fc",
   "metadata": {},
   "source": [
    "### Import analysis types"
   ]
  },
  {
   "cell_type": "code",
   "execution_count": 1,
   "id": "a944db2d",
   "metadata": {},
   "outputs": [],
   "source": [
    "from ipynb.fs.full.cs_functions import ProjectForAnalysis, \\\n",
    "    HotspotAnalysis, FileComplexityStaticAnalysis, FileComplexityTrendAnalysis, \\\n",
    "    SumOfCouplingAnalysis, FileTemporalCouplingAnalysis"
   ]
  },
  {
   "cell_type": "markdown",
   "id": "f6da37b5",
   "metadata": {},
   "source": [
    "### Create a reference to the project we want to analyze"
   ]
  },
  {
   "cell_type": "code",
   "execution_count": 59,
   "id": "de552104",
   "metadata": {},
   "outputs": [
    {
     "name": "stdout",
     "output_type": "stream",
     "text": [
      "Executing: git -C /home/brombaut/work/Craft.Net checkout 62afbc4ba6246324fc94b60293c8bbe3d80b73da\n"
     ]
    }
   ],
   "source": [
    "craft = ProjectForAnalysis(\n",
    "    \"/home/brombaut/work/Craft.Net\", after=\"2013-01-01\", before=\"2014-08-08\")"
   ]
  },
  {
   "cell_type": "markdown",
   "id": "da982c6e",
   "metadata": {},
   "source": [
    "### Run Hotspot analysis\n",
    "Hotspots are complex files that are worked on frequently by developers."
   ]
  },
  {
   "cell_type": "code",
   "execution_count": 60,
   "id": "ff5604c0",
   "metadata": {},
   "outputs": [],
   "source": [
    "hs_analysis = HotspotAnalysis(craft).analyze()"
   ]
  },
  {
   "cell_type": "markdown",
   "id": "66fec700",
   "metadata": {},
   "source": [
    "Visualize the data to quickly gain an understanding of where the Hotspots are located in the codebase"
   ]
  },
  {
   "cell_type": "code",
   "execution_count": 61,
   "id": "16a3150d",
   "metadata": {},
   "outputs": [
    {
     "data": {
      "application/javascript": [
       "require.config({paths: {d3: 'https://d3js.org/d3.v3.min'}});"
      ],
      "text/plain": [
       "<IPython.core.display.Javascript object>"
      ]
     },
     "metadata": {},
     "output_type": "display_data"
    },
    {
     "data": {
      "application/javascript": [
       "require.undef('enclosure_diagram_js');\n",
       "\n",
       "define('enclosure_diagram_js', ['d3'], function (d3) {\n",
       "\n",
       "    function draw(container, json_file) {\n",
       "        console.log(container.getBoundingClientRect());\n",
       "        var margin = 20,\n",
       "            outerDiameter = container.getBoundingClientRect().width,\n",
       "            innerDiameter = outerDiameter - margin - margin;\n",
       "        \n",
       "        var x = d3.scale.linear().range([0, innerDiameter]);\n",
       "\n",
       "        var y = d3.scale.linear().range([0, innerDiameter]);\n",
       "\n",
       "        var color = d3.scale.linear()\n",
       "            .domain([-1, 5])\n",
       "            .range([\"hsl(185,60%,99%)\", \"hsl(187,40%,70%)\"])\n",
       "            .interpolate(d3.interpolateHcl);\n",
       "\n",
       "        var pack = d3.layout.pack()\n",
       "            .padding(2)\n",
       "            .size([innerDiameter, innerDiameter])\n",
       "            .value(function (d) { return d.size; })\n",
       "\n",
       "        var svg = d3.select(container).append(\"svg\")\n",
       "            .attr(\"width\", outerDiameter)\n",
       "            .attr(\"height\", outerDiameter)\n",
       "            .append(\"g\")\n",
       "            .attr(\"transform\", \"translate(\" + margin + \",\" + margin + \")\");\n",
       "\n",
       "        // Define the div for the tooltip\n",
       "        var div = d3.select(container).append(\"div\")\t\n",
       "            .attr(\"class\", \"tooltip\")\t\t\t\t\n",
       "            .style(\"opacity\", 0);\n",
       "        \n",
       "        var root = json_file;\n",
       "        var focus = root,\n",
       "            nodes = pack.nodes(root);\n",
       "\n",
       "        svg.append(\"g\").selectAll(\"circle\")\n",
       "            .data(nodes)\n",
       "            .enter().append(\"circle\")\n",
       "            .attr(\"class\", function (d) {\n",
       "                if (!d.parent) return \"node node--root\";\n",
       "                if (d.children) return \"node\";\n",
       "                return \"node node--leaf\"\n",
       "            })\n",
       "            .attr(\"transform\", function (d) { return \"translate(\" + d.x + \",\" + d.y + \")\"; })\n",
       "            .attr(\"r\", function (d) { return d.r; })\n",
       "            .style(\"fill\", function (d) {\n",
       "                return d.weight > 0.0 ? \"darkred\" :\n",
       "                    d.children ? color(d.depth) : \"WhiteSmoke\";\n",
       "            })\n",
       "            .style(\"fill-opacity\", function (d) { return d.weight; })\n",
       "            .on(\"click\", function (d) { return zoom(focus == d ? root : d); })\n",
       "            .on(\"mouseenter\", (d) => {\n",
       "                // console.log(d.value / d.parent.value);\n",
       "                const rect = d3.event.target.getBoundingClientRect();\n",
       "                // console.log(rect.y);\n",
       "                div.transition()\t\t\n",
       "                    .duration(200)\t\t\n",
       "                    .style(\"opacity\", .9);\t\t\n",
       "                div.html(d.name)\t\n",
       "                    .style(\"left\", (rect.x) + \"px\")\t\t\n",
       "                    .style(\"top\", (rect.y) + \"px\");\t\n",
       "            })\n",
       "            .on(\"mouseout\", function(d) {\t\t\n",
       "                div.transition()\t\t\n",
       "                    .duration(500)\t\t\n",
       "                    .style(\"opacity\", 0);\t\n",
       "            });\n",
       "\n",
       "        svg.append(\"g\").selectAll(\"text\")\n",
       "            .data(nodes)\n",
       "            .enter().append(\"text\")\n",
       "            .attr(\"class\", \"label\")\n",
       "            .attr(\"transform\", function (d) { return \"translate(\" + d.x + \",\" + d.y + \")\"; })\n",
       "            .style(\"fill-opacity\", function (d) { return d.parent === root ? 1 : 0; })\n",
       "            .style(\"display\", function (d) {\n",
       "                if (d.parent === root) return null;\n",
       "                return \"none\";\n",
       "            })\n",
       "            .text(function (d) { return d.name; });\n",
       "\n",
       "        d3.select(window)\n",
       "            .on(\"click\", function () { zoom(root); });\n",
       "\n",
       "        function zoom(d, i) {\n",
       "            var focus0 = focus;\n",
       "            focus = d;\n",
       "\n",
       "            var k = innerDiameter / d.r / 2;\n",
       "            x.domain([d.x - d.r, d.x + d.r]);\n",
       "            y.domain([d.y - d.r, d.y + d.r]);\n",
       "            d3.event.stopPropagation();\n",
       "\n",
       "            var transition = d3.selectAll(\"text,circle\").transition()\n",
       "                .duration(d3.event.altKey ? 7500 : 750)\n",
       "                .attr(\"transform\", function (d) { return \"translate(\" + x(d.x) + \",\" + y(d.y) + \")\"; });\n",
       "\n",
       "            transition.filter(\"circle\")\n",
       "                .attr(\"r\", function (d) { return k * d.r; });\n",
       "\n",
       "            transition.filter(\"text\")\n",
       "                .filter(function (d) { return d.parent === focus || d.parent === focus0; })\n",
       "                .style(\"fill-opacity\", function (d) { return d.parent === focus ? 1 : 0; })\n",
       "                .each(\"start\", function (d) {\n",
       "                    if (d.parent === focus) {\n",
       "                        // Only show text label if parent is focused and d is not a leaf node\n",
       "                        if (d.children || d.value / d.parent.value >= 0.02) {   \n",
       "                            this.style.display = \"inline\";\n",
       "                        }\n",
       "                    }\n",
       "                    \n",
       "                })\n",
       "                .each(\"end\", function (d) {\n",
       "                    if (d.parent !== focus) this.style.display = \"none\";\n",
       "                });\n",
       "        }\n",
       "\n",
       "        // d3.select(self.frameElement).style(\"height\", outerDiameter + \"px\");\n",
       "    }\n",
       "    return draw;\n",
       "});\n",
       "\n",
       "// element.append('<small>&#x25C9; &#x25CB; &#x25EF; Loaded enclosure_diagram.js &#x25CC; &#x25CE; &#x25CF;</small>');\n",
       "\n",
       "\n",
       "// // First undefine 'circles' so we can easily reload this file.\n",
       "// require.undef('circles');\n",
       "\n",
       "// define('circles', ['d3'], function (d3) {\n",
       "\n",
       "//     function draw(container, data, width, height) {\n",
       "//         width = width || 600;\n",
       "//         height = height || 200;\n",
       "//         var svg = d3.select(container).append(\"svg\")\n",
       "//             .attr('width', width)\n",
       "//             .attr('height', height)\n",
       "//             .append(\"g\");\n",
       "\n",
       "//         var x = d3.scaleLinear()\n",
       "//             .domain([0, data.length - 1])\n",
       "//             .range([50, width - 50]);\n",
       "\n",
       "//         var circles = svg.selectAll('circle').data(data);\n",
       "\n",
       "//         circles.enter()\n",
       "//             .append('circle')\n",
       "//             .attr(\"cx\", function (d, i) {return x(i);})\n",
       "//             .attr(\"cy\", height / 2)\n",
       "//             .attr(\"r\", 20)\n",
       "//             .style(\"fill\", \"#1f77b4\")\n",
       "//             .style(\"opacity\", 0.7)\n",
       "//             .on('mouseover', function() {\n",
       "//                 d3.select(this)\n",
       "//                   .interrupt('fade')\n",
       "//                   .style('fill', '#ff850e')\n",
       "//                   .style(\"opacity\", 1)\n",
       "//                   .attr(\"r\", function (d) {return 1.1 * d + 10;});\n",
       "//             })\n",
       "//             .on('mouseout', function() {\n",
       "//                 d3.select(this)\n",
       "//                     .transition('fade').duration(500)\n",
       "//                     .style(\"fill\", \"#1f77b4\")\n",
       "//                     .style(\"opacity\", 0.7)\n",
       "//                     .attr(\"r\", function (d) {return d;});\n",
       "//             })\n",
       "//             .transition().duration(2000)\n",
       "//             .attr(\"r\", function (d) {return d;});\n",
       "//     }\n",
       "\n",
       "//     return draw;\n",
       "// });\n",
       "\n",
       "// element.append('<small>&#x25C9; &#x25CB; &#x25EF; Loaded circles.js &#x25CC; &#x25CE; &#x25CF;</small>');"
      ],
      "text/plain": [
       "<IPython.core.display.Javascript object>"
      ]
     },
     "metadata": {},
     "output_type": "display_data"
    },
    {
     "data": {
      "text/html": [
       "<style>\n",
       "    .node {\n",
       "        cursor: pointer;\n",
       "    }\n",
       "\n",
       "    .node:hover {\n",
       "        stroke: #3A445A;\n",
       "        stroke-width: 0.5px;\n",
       "    }\n",
       "\n",
       "    .node--root {\n",
       "        stroke: #777;\n",
       "        stroke-width: 1px;\n",
       "    }\n",
       "\n",
       "    .node--leaf {\n",
       "        fill: white;\n",
       "        stroke: #777;\n",
       "        stroke-width: 1px;\n",
       "    }\n",
       "\n",
       "    .label {\n",
       "        font: 12px \"Helvetica Light\", Helvetica, Arial, sans-serif;\n",
       "        text-anchor: middle;\n",
       "        /* fill: white; */\n",
       "        fill: #3A445A;\n",
       "        /* text-shadow: 0 1px 0 #fff, 1px 0 0 #fff, -1px 0 0 #fff, 0 -1px 0 #fff; */\n",
       "    }\n",
       "\n",
       "    /* .label,\n",
       "    .node--root,\n",
       "    .node--leaf {\n",
       "        pointer-events: none;\n",
       "    }\n",
       "    */\n",
       "\n",
       "    div.tooltip {\n",
       "        position: absolute;\n",
       "        text-align: center;\n",
       "        padding: 4px;\n",
       "        font: 12px sans-serif;\n",
       "        background: lightsteelblue;\n",
       "        border: 0px;\n",
       "        border-radius: 8px;\n",
       "        pointer-events: none;\n",
       "    }\n",
       "</style>"
      ],
      "text/plain": [
       "<IPython.core.display.HTML object>"
      ]
     },
     "metadata": {},
     "output_type": "display_data"
    },
    {
     "data": {
      "application/javascript": [
       "\n",
       "            (function(element){\n",
       "                require(['enclosure_diagram_js'], function(enclosure_diagram_js) {\n",
       "                    enclosure_diagram_js(element.get(0), {\"name\": \"root\", \"children\": [{\"name\": \"lib\", \"children\": [{\"name\": \"nunit.framework.xml\", \"children\": [], \"size\": \"10871\", \"weight\": 0.0}]}, {\"name\": \"source\", \"children\": [{\"name\": \"Craft.Net.Networking\", \"children\": [{\"name\": \"Packets.cs\", \"children\": [], \"size\": \"2985\", \"weight\": 0.8378378378378379}, {\"name\": \"ChatTransciever.cs\", \"children\": [], \"size\": \"227\", \"weight\": 0.2972972972972973}, {\"name\": \"NetworkManager.cs\", \"children\": [], \"size\": \"226\", \"weight\": 0.5135135135135136}, {\"name\": \"PacketLogger.cs\", \"children\": [], \"size\": \"114\", \"weight\": 0.08108108108108109}, {\"name\": \"AesStream.cs\", \"children\": [], \"size\": \"86\", \"weight\": 0.05405405405405406}, {\"name\": \"ServerStatus.cs\", \"children\": [], \"size\": \"80\", \"weight\": 0.13513513513513514}, {\"name\": \"Craft.Net.Networking.csproj\", \"children\": [], \"size\": \"74\", \"weight\": 0.32432432432432434}, {\"name\": \"BufferedStream.cs\", \"children\": [], \"size\": \"57\", \"weight\": 0.05405405405405406}, {\"name\": \"Extensions.cs\", \"children\": [], \"size\": \"15\", \"weight\": 0.02702702702702703}, {\"name\": \"Properties\", \"children\": [{\"name\": \"AssemblyInfo.cs\", \"children\": [], \"size\": \"15\", \"weight\": 0.0}]}, {\"name\": \"NetworkMode.cs\", \"children\": [], \"size\": \"11\", \"weight\": 0.02702702702702703}, {\"name\": \"PacketDirection.cs\", \"children\": [], \"size\": \"9\", \"weight\": 0.08108108108108109}]}, {\"name\": \"Craft.Net.Common\", \"children\": [{\"name\": \"Cryptography.cs\", \"children\": [], \"size\": \"1381\", \"weight\": 0.05405405405405406}, {\"name\": \"Coordinates.cs\", \"children\": [], \"size\": \"344\", \"weight\": 0.02702702702702703}, {\"name\": \"MinecraftStream.cs\", \"children\": [], \"size\": \"320\", \"weight\": 0.2702702702702703}, {\"name\": \"Vector3.cs\", \"children\": [], \"size\": \"235\", \"weight\": 0.05405405405405406}, {\"name\": \"ItemStack.cs\", \"children\": [], \"size\": \"200\", \"weight\": 0.08108108108108109}, {\"name\": \"MathHelper.cs\", \"children\": [], \"size\": \"181\", \"weight\": 0.13513513513513514}, {\"name\": \"SoundEffect.cs\", \"children\": [], \"size\": \"176\", \"weight\": 0.05405405405405406}, {\"name\": \"BoundingBox.cs\", \"children\": [], \"size\": \"150\", \"weight\": 0.13513513513513514}, {\"name\": \"Ray.cs\", \"children\": [], \"size\": \"106\", \"weight\": 0.0}, {\"name\": \"Craft.Net.Common.csproj\", \"children\": [], \"size\": \"83\", \"weight\": 0.2972972972972973}, {\"name\": \"GameRules.cs\", \"children\": [], \"size\": \"70\", \"weight\": 0.0}, {\"name\": \"MetadataDictionary.cs\", \"children\": [], \"size\": \"69\", \"weight\": 0.10810810810810811}, {\"name\": \"MetadataEntry.cs\", \"children\": [], \"size\": \"51\", \"weight\": 0.0}, {\"name\": \"MinecraftStream.Stream.cs\", \"children\": [], \"size\": \"48\", \"weight\": 0.0}, {\"name\": \"MetadataSlot.cs\", \"children\": [], \"size\": \"46\", \"weight\": 0.0}, {\"name\": \"ParticleEffect.cs\", \"children\": [], \"size\": \"44\", \"weight\": 0.0}, {\"name\": \"RuntimeInfo.cs\", \"children\": [], \"size\": \"43\", \"weight\": 0.02702702702702703}, {\"name\": \"MetadataString.cs\", \"children\": [], \"size\": \"35\", \"weight\": 0.0}, {\"name\": \"Biome.cs\", \"children\": [], \"size\": \"33\", \"weight\": 0.0}, {\"name\": \"MetadataInt.cs\", \"children\": [], \"size\": \"30\", \"weight\": 0.0}, {\"name\": \"MetadataFloat.cs\", \"children\": [], \"size\": \"30\", \"weight\": 0.0}, {\"name\": \"MetadataShort.cs\", \"children\": [], \"size\": \"30\", \"weight\": 0.0}, {\"name\": \"MetadataByte.cs\", \"children\": [], \"size\": \"29\", \"weight\": 0.0}, {\"name\": \"Size.cs\", \"children\": [], \"size\": \"25\", \"weight\": 0.02702702702702703}, {\"name\": \"Properties\", \"children\": [{\"name\": \"AssemblyInfo.cs\", \"children\": [], \"size\": \"15\", \"weight\": 0.0}]}, {\"name\": \"BlockFace.cs\", \"children\": [], \"size\": \"13\", \"weight\": 0.02702702702702703}, {\"name\": \"Difficulty.cs\", \"children\": [], \"size\": \"10\", \"weight\": 0.0}, {\"name\": \"GameMode.cs\", \"children\": [], \"size\": \"9\", \"weight\": 0.0}, {\"name\": \"Dimension.cs\", \"children\": [], \"size\": \"9\", \"weight\": 0.0}]}, {\"name\": \"Craft.Net.Server\", \"children\": [{\"name\": \"MinecraftServer.cs\", \"children\": [], \"size\": \"443\", \"weight\": 0.8108108108108109}, {\"name\": \"Handlers\", \"children\": [{\"name\": \"InventoryHandler.cs\", \"children\": [], \"size\": \"241\", \"weight\": 0.21621621621621623}, {\"name\": \"InteractionHandlers.cs\", \"children\": [], \"size\": \"160\", \"weight\": 0.40540540540540543}, {\"name\": \"LoginHandlers.cs\", \"children\": [], \"size\": \"154\", \"weight\": 0.2972972972972973}, {\"name\": \"PlayerMovementHandlers.cs\", \"children\": [], \"size\": \"84\", \"weight\": 0.10810810810810811}, {\"name\": \"PacketHandlers.cs\", \"children\": [], \"size\": \"72\", \"weight\": 0.24324324324324326}]}, {\"name\": \"RemoteClient.cs\", \"children\": [], \"size\": \"218\", \"weight\": 0.5675675675675675}, {\"name\": \"EntityManager.cs\", \"children\": [], \"size\": \"189\", \"weight\": 0.2972972972972973}, {\"name\": \"ExtensionMethods.cs\", \"children\": [], \"size\": \"116\", \"weight\": 0.13513513513513514}, {\"name\": \"Craft.Net.Server.csproj\", \"children\": [], \"size\": \"99\", \"weight\": 0.40540540540540543}, {\"name\": \"ChunkHelper.cs\", \"children\": [], \"size\": \"74\", \"weight\": 0.08108108108108109}, {\"name\": \"PlayerManager.cs\", \"children\": [], \"size\": \"69\", \"weight\": 0.21621621621621623}, {\"name\": \"Channels\", \"children\": [{\"name\": \"ServerPingChannel.cs\", \"children\": [], \"size\": \"44\", \"weight\": 0.02702702702702703}, {\"name\": \"TexturePackChannel.cs\", \"children\": [], \"size\": \"43\", \"weight\": 0.05405405405405406}, {\"name\": \"PluginChannel.cs\", \"children\": [], \"size\": \"20\", \"weight\": 0.02702702702702703}]}, {\"name\": \"ServerSettings.cs\", \"children\": [], \"size\": \"33\", \"weight\": 0.10810810810810811}, {\"name\": \"ClientSettings.cs\", \"children\": [], \"size\": \"24\", \"weight\": 0.02702702702702703}, {\"name\": \"Events\", \"children\": [{\"name\": \"PlayerLogInEventArgs.cs\", \"children\": [], \"size\": \"20\", \"weight\": 0.08108108108108109}, {\"name\": \"TabCompleteEventArgs.cs\", \"children\": [], \"size\": \"19\", \"weight\": 0.05405405405405406}, {\"name\": \"ChatMessageEventArgs.cs\", \"children\": [], \"size\": \"17\", \"weight\": 0.08108108108108109}, {\"name\": \"ConnectionEstablishedEventArgs.cs\", \"children\": [], \"size\": \"16\", \"weight\": 0.05405405405405406}]}, {\"name\": \"Properties\", \"children\": [{\"name\": \"AssemblyInfo.cs\", \"children\": [], \"size\": \"15\", \"weight\": 0.02702702702702703}]}]}, {\"name\": \"Classic\", \"children\": [{\"name\": \"Craft.Net.Classic.Networking\", \"children\": [{\"name\": \"Packets.cs\", \"children\": [], \"size\": \"424\", \"weight\": 0.05405405405405406}, {\"name\": \"PacketReader.cs\", \"children\": [], \"size\": \"289\", \"weight\": 0.10810810810810811}, {\"name\": \"Craft.Net.Classic.Networking.csproj\", \"children\": [], \"size\": \"46\", \"weight\": 0.08108108108108109}, {\"name\": \"Properties\", \"children\": [{\"name\": \"AssemblyInfo.cs\", \"children\": [], \"size\": \"11\", \"weight\": 0.0}]}]}, {\"name\": \"Craft.Net.Classic.Common\", \"children\": [{\"name\": \"MinecraftStream.cs\", \"children\": [], \"size\": \"88\", \"weight\": 0.02702702702702703}, {\"name\": \"BufferedStream.cs\", \"children\": [], \"size\": \"58\", \"weight\": 0.02702702702702703}, {\"name\": \"MinecraftStream.Stream.cs\", \"children\": [], \"size\": \"45\", \"weight\": 0.0}, {\"name\": \"Craft.Net.Classic.Common.csproj\", \"children\": [], \"size\": \"41\", \"weight\": 0.05405405405405406}, {\"name\": \"Properties\", \"children\": [{\"name\": \"AssemblyInfo.cs\", \"children\": [], \"size\": \"11\", \"weight\": 0.0}]}]}]}, {\"name\": \"Craft.Net.Physics\", \"children\": [{\"name\": \"PhysicsEngine.cs\", \"children\": [], \"size\": \"350\", \"weight\": 0.2702702702702703}, {\"name\": \"Craft.Net.Physics.csproj\", \"children\": [], \"size\": \"64\", \"weight\": 0.13513513513513514}, {\"name\": \"IPhysicsEntity.cs\", \"children\": [], \"size\": \"17\", \"weight\": 0.02702702702702703}, {\"name\": \"Properties\", \"children\": [{\"name\": \"AssemblyInfo.cs\", \"children\": [], \"size\": \"15\", \"weight\": 0.02702702702702703}]}, {\"name\": \"IAABBEntity.cs\", \"children\": [], \"size\": \"14\", \"weight\": 0.02702702702702703}, {\"name\": \"IBlockPhysicsProvider.cs\", \"children\": [], \"size\": \"10\", \"weight\": 0.02702702702702703}]}, {\"name\": \"Craft.Net.Anvil\", \"children\": [{\"name\": \"Level.cs\", \"children\": [], \"size\": \"275\", \"weight\": 0.2702702702702703}, {\"name\": \"Chunk.cs\", \"children\": [], \"size\": \"275\", \"weight\": 0.16216216216216217}, {\"name\": \"Region.cs\", \"children\": [], \"size\": \"234\", \"weight\": 0.16216216216216217}, {\"name\": \"World.cs\", \"children\": [], \"size\": \"210\", \"weight\": 0.24324324324324326}, {\"name\": \"Section.cs\", \"children\": [], \"size\": \"106\", \"weight\": 0.05405405405405406}, {\"name\": \"Craft.Net.Anvil.csproj\", \"children\": [], \"size\": \"82\", \"weight\": 0.21621621621621623}, {\"name\": \"NibbleArray.cs\", \"children\": [], \"size\": \"58\", \"weight\": 0.0}, {\"name\": \"RuntimeInfo.cs\", \"children\": [], \"size\": \"43\", \"weight\": 0.0}, {\"name\": \"TileEntity.cs\", \"children\": [], \"size\": \"28\", \"weight\": 0.02702702702702703}, {\"name\": \"UnrecognizedEntity.cs\", \"children\": [], \"size\": \"26\", \"weight\": 0.0}, {\"name\": \"BlockChangeEventArgs.cs\", \"children\": [], \"size\": \"16\", \"weight\": 0.05405405405405406}, {\"name\": \"Properties\", \"children\": [{\"name\": \"AssemblyInfo.cs\", \"children\": [], \"size\": \"15\", \"weight\": 0.0}]}, {\"name\": \"SpawnEntityEventArgs.cs\", \"children\": [], \"size\": \"15\", \"weight\": 0.02702702702702703}, {\"name\": \"IWorldGenerator.cs\", \"children\": [], \"size\": \"14\", \"weight\": 0.02702702702702703}, {\"name\": \"IDiskEntity.cs\", \"children\": [], \"size\": \"13\", \"weight\": 0.0}]}, {\"name\": \"Craft.Net.Logic\", \"children\": [{\"name\": \"Block.cs\", \"children\": [], \"size\": \"236\", \"weight\": 0.21621621621621623}, {\"name\": \"Item.cs\", \"children\": [], \"size\": \"117\", \"weight\": 0.08108108108108109}, {\"name\": \"PlayerAbilities.cs\", \"children\": [], \"size\": \"113\", \"weight\": 0.0}, {\"name\": \"Craft.Net.Logic.csproj\", \"children\": [], \"size\": \"106\", \"weight\": 0.5675675675675675}, {\"name\": \"Windows\", \"children\": [{\"name\": \"Window.cs\", \"children\": [], \"size\": \"102\", \"weight\": 0.08108108108108109}, {\"name\": \"WindowArea.cs\", \"children\": [], \"size\": \"81\", \"weight\": 0.08108108108108109}, {\"name\": \"InventoryWindow.cs\", \"children\": [], \"size\": \"70\", \"weight\": 0.08108108108108109}, {\"name\": \"ArmorWindowArea.cs\", \"children\": [], \"size\": \"40\", \"weight\": 0.05405405405405406}, {\"name\": \"CraftingWindowArea.cs\", \"children\": [], \"size\": \"21\", \"weight\": 0.05405405405405406}, {\"name\": \"WindowChangeEventArgs.cs\", \"children\": [], \"size\": \"20\", \"weight\": 0.05405405405405406}]}, {\"name\": \"PlayerEntity.cs\", \"children\": [], \"size\": \"97\", \"weight\": 0.0}, {\"name\": \"ItemEntity.cs\", \"children\": [], \"size\": \"96\", \"weight\": 0.0}, {\"name\": \"Entity.cs\", \"children\": [], \"size\": \"89\", \"weight\": 0.02702702702702703}, {\"name\": \"Blocks\", \"children\": [{\"name\": \"LadderBlock.cs\", \"children\": [], \"size\": \"68\", \"weight\": 0.10810810810810811}, {\"name\": \"FlowerBlock.cs\", \"children\": [], \"size\": \"31\", \"weight\": 0.16216216216216217}, {\"name\": \"DecorativeGrassBlock.cs\", \"children\": [], \"size\": \"31\", \"weight\": 0.08108108108108109}, {\"name\": \"WheatBlock.cs\", \"children\": [], \"size\": \"18\", \"weight\": 0.08108108108108109}, {\"name\": \"AirBlock.cs\", \"children\": [], \"size\": \"18\", \"weight\": 0.21621621621621623}, {\"name\": \"GrassBlock.cs\", \"children\": [], \"size\": \"16\", \"weight\": 0.21621621621621623}, {\"name\": \"DirtBlock.cs\", \"children\": [], \"size\": \"15\", \"weight\": 0.21621621621621623}]}, {\"name\": \"Items\", \"children\": [{\"name\": \"PickaxeItem.cs\", \"children\": [], \"size\": \"46\", \"weight\": 0.02702702702702703}, {\"name\": \"FlintAndSteelItem.cs\", \"children\": [], \"size\": \"15\", \"weight\": 0.02702702702702703}]}, {\"name\": \"LivingEntity.cs\", \"children\": [], \"size\": \"46\", \"weight\": 0.0}, {\"name\": \"WorldExtensions.cs\", \"children\": [], \"size\": \"39\", \"weight\": 0.08108108108108109}, {\"name\": \"ItemAttribute.cs\", \"children\": [], \"size\": \"25\", \"weight\": 0.0}, {\"name\": \"BlockAttribute.cs\", \"children\": [], \"size\": \"23\", \"weight\": 0.05405405405405406}, {\"name\": \"BlockInfo.cs\", \"children\": [], \"size\": \"18\", \"weight\": 0.02702702702702703}, {\"name\": \"Properties\", \"children\": [{\"name\": \"AssemblyInfo.cs\", \"children\": [], \"size\": \"15\", \"weight\": 0.02702702702702703}]}, {\"name\": \"EntityEventArgs.cs\", \"children\": [], \"size\": \"15\", \"weight\": 0.0}, {\"name\": \"ItemInfo.cs\", \"children\": [], \"size\": \"14\", \"weight\": 0.05405405405405406}, {\"name\": \"ToolType.cs\", \"children\": [], \"size\": \"13\", \"weight\": 0.05405405405405406}, {\"name\": \"ItemMaterial.cs\", \"children\": [], \"size\": \"12\", \"weight\": 0.02702702702702703}, {\"name\": \"ObjectEntity.cs\", \"children\": [], \"size\": \"12\", \"weight\": 0.0}]}, {\"name\": \"Craft.Net.Client\", \"children\": [{\"name\": \"MinecraftClient.cs\", \"children\": [], \"size\": \"228\", \"weight\": 0.7297297297297298}, {\"name\": \"Session.cs\", \"children\": [], \"size\": \"156\", \"weight\": 0.2702702702702703}, {\"name\": \"ReadOnlyWorld.cs\", \"children\": [], \"size\": \"124\", \"weight\": 0.10810810810810811}, {\"name\": \"Craft.Net.Client.csproj\", \"children\": [], \"size\": \"96\", \"weight\": 0.24324324324324326}, {\"name\": \"Handlers\", \"children\": [{\"name\": \"WorldHandlers.cs\", \"children\": [], \"size\": \"90\", \"weight\": 0.21621621621621623}, {\"name\": \"LoginHandlers.cs\", \"children\": [], \"size\": \"67\", \"weight\": 0.21621621621621623}, {\"name\": \"StateHandlers.cs\", \"children\": [], \"size\": \"32\", \"weight\": 0.08108108108108109}, {\"name\": \"EntityHandlers.cs\", \"children\": [], \"size\": \"32\", \"weight\": 0.1891891891891892}, {\"name\": \"PacketHandlers.cs\", \"children\": [], \"size\": \"27\", \"weight\": 0.1891891891891892}, {\"name\": \"ChatHandler.cs\", \"children\": [], \"size\": \"13\", \"weight\": 0.05405405405405406}]}, {\"name\": \"PKCSKeyGenerator.cs\", \"children\": [], \"size\": \"81\", \"weight\": 0.05405405405405406}, {\"name\": \"MinecraftClient.Physics.cs\", \"children\": [], \"size\": \"78\", \"weight\": 0.08108108108108109}, {\"name\": \"ServerList.cs\", \"children\": [], \"size\": \"76\", \"weight\": 0.05405405405405406}, {\"name\": \"MinecraftClient.Actions.cs\", \"children\": [], \"size\": \"69\", \"weight\": 0.05405405405405406}, {\"name\": \"MinecraftClient.Properties.cs\", \"children\": [], \"size\": \"65\", \"weight\": 0.3783783783783784}, {\"name\": \"LastLogin.cs\", \"children\": [], \"size\": \"61\", \"weight\": 0.05405405405405406}, {\"name\": \"ServerPing.cs\", \"children\": [], \"size\": \"43\", \"weight\": 0.10810810810810811}, {\"name\": \"Events\", \"children\": [{\"name\": \"HealthAndFoodEventArgs.cs\", \"children\": [], \"size\": \"26\", \"weight\": 0.05405405405405406}, {\"name\": \"EntitySpawnEventArgs.cs\", \"children\": [], \"size\": \"18\", \"weight\": 0.05405405405405406}, {\"name\": \"ChatMessageEventArgs.cs\", \"children\": [], \"size\": \"16\", \"weight\": 0.08108108108108109}, {\"name\": \"DisconnectEventArgs.cs\", \"children\": [], \"size\": \"15\", \"weight\": 0.05405405405405406}]}, {\"name\": \"DotMinecraft.cs\", \"children\": [], \"size\": \"17\", \"weight\": 0.08108108108108109}, {\"name\": \"Properties\", \"children\": [{\"name\": \"AssemblyInfo.cs\", \"children\": [], \"size\": \"11\", \"weight\": 0.05405405405405406}]}]}, {\"name\": \"Craft.Net.TerrainGeneration\", \"children\": [{\"name\": \"StandardGenerator.cs\", \"children\": [], \"size\": \"134\", \"weight\": 0.1891891891891892}, {\"name\": \"FlatlandGenerator.cs\", \"children\": [], \"size\": \"116\", \"weight\": 0.10810810810810811}, {\"name\": \"Noise.cs\", \"children\": [], \"size\": \"76\", \"weight\": 0.10810810810810811}, {\"name\": \"Craft.Net.TerrainGeneration.csproj\", \"children\": [], \"size\": \"63\", \"weight\": 0.21621621621621623}, {\"name\": \"Properties\", \"children\": [{\"name\": \"AssemblyInfo.cs\", \"children\": [], \"size\": \"15\", \"weight\": 0.02702702702702703}]}]}, {\"name\": \"Test\", \"children\": [{\"name\": \"Craft.Net.Anvil.Test\", \"children\": [{\"name\": \"Craft.Net.Anvil.Test.csproj\", \"children\": [], \"size\": \"111\", \"weight\": 0.13513513513513514}, {\"name\": \"WorldTest.cs\", \"children\": [], \"size\": \"54\", \"weight\": 0.02702702702702703}, {\"name\": \"LevelTest.cs\", \"children\": [], \"size\": \"22\", \"weight\": 0.0}, {\"name\": \"Properties\", \"children\": [{\"name\": \"AssemblyInfo.cs\", \"children\": [], \"size\": \"15\", \"weight\": 0.0}]}]}, {\"name\": \"Craft.Net.Networking.Test\", \"children\": [{\"name\": \"NbtTest.cs\", \"children\": [], \"size\": \"101\", \"weight\": 0.0}, {\"name\": \"Craft.Net.Networking.Test.csproj\", \"children\": [], \"size\": \"59\", \"weight\": 0.10810810810810811}, {\"name\": \"CryptoTest.cs\", \"children\": [], \"size\": \"29\", \"weight\": 0.0}, {\"name\": \"Properties\", \"children\": [{\"name\": \"AssemblyInfo.cs\", \"children\": [], \"size\": \"15\", \"weight\": 0.0}]}]}, {\"name\": \"TestServer\", \"children\": [{\"name\": \"TestServer.csproj\", \"children\": [], \"size\": \"83\", \"weight\": 0.13513513513513514}, {\"name\": \"Program.cs\", \"children\": [], \"size\": \"57\", \"weight\": 0.4594594594594595}, {\"name\": \"Properties\", \"children\": [{\"name\": \"AssemblyInfo.cs\", \"children\": [], \"size\": \"15\", \"weight\": 0.02702702702702703}]}]}, {\"name\": \"TestClient\", \"children\": [{\"name\": \"Program.cs\", \"children\": [], \"size\": \"73\", \"weight\": 0.2972972972972973}, {\"name\": \"TestClient.csproj\", \"children\": [], \"size\": \"64\", \"weight\": 0.1891891891891892}, {\"name\": \"Properties\", \"children\": [{\"name\": \"AssemblyInfo.cs\", \"children\": [], \"size\": \"11\", \"weight\": 0.02702702702702703}]}]}]}, {\"name\": \"Craft.Net.Entities\", \"children\": [{\"name\": \"Craft.Net.Entities.csproj\", \"children\": [], \"size\": \"68\", \"weight\": 0.1891891891891892}, {\"name\": \"Properties\", \"children\": [{\"name\": \"AssemblyInfo.cs\", \"children\": [], \"size\": \"15\", \"weight\": 0.0}]}]}]}, {\"name\": \"README.md\", \"children\": [], \"size\": \"137\", \"weight\": 0.7027027027027027}, {\"name\": \".ipynb_checkpoints\", \"children\": [{\"name\": \"Untitled-checkpoint.ipynb\", \"children\": [], \"size\": \"7\", \"weight\": 0.0}]}, {\"name\": \"Untitled.ipynb\", \"children\": [], \"size\": \"7\", \"weight\": 0.0}]});\n",
       "                });\n",
       "            })(element);\n",
       "        "
      ],
      "text/plain": [
       "<IPython.core.display.Javascript object>"
      ]
     },
     "metadata": {},
     "output_type": "display_data"
    },
    {
     "data": {
      "text/plain": [
       "<ipynb.fs.full.cs_functions.HotspotAnalysis at 0x7fa5b90b6310>"
      ]
     },
     "execution_count": 61,
     "metadata": {},
     "output_type": "execute_result"
    }
   ],
   "source": [
    "hs_analysis.enclosure_diagram()"
   ]
  },
  {
   "cell_type": "markdown",
   "id": "ed1c0f87",
   "metadata": {},
   "source": [
    "### After identifying hotspots, dig deeper to explore the complexity trends of these files."
   ]
  },
  {
   "cell_type": "code",
   "execution_count": 62,
   "id": "6443c042",
   "metadata": {},
   "outputs": [
    {
     "ename": "Exception",
     "evalue": "File not found: /home/brombaut/work/Craft.Net/Craft.Net.Server/MinecraftServer.cs",
     "output_type": "error",
     "traceback": [
      "\u001b[0;31m---------------------------------------------------------------------------\u001b[0m",
      "\u001b[0;31mException\u001b[0m                                 Traceback (most recent call last)",
      "\u001b[0;32m/tmp/ipykernel_29134/3496871992.py\u001b[0m in \u001b[0;36m<module>\u001b[0;34m\u001b[0m\n\u001b[0;32m----> 1\u001b[0;31m file_complexity_trend = FileComplexityTrendAnalysis(\n\u001b[0m\u001b[1;32m      2\u001b[0m     \u001b[0mcraft\u001b[0m\u001b[0;34m,\u001b[0m\u001b[0;34m\u001b[0m\u001b[0;34m\u001b[0m\u001b[0m\n\u001b[1;32m      3\u001b[0m     \u001b[0;34m\"Craft.Net.Server/MinecraftServer.cs\"\u001b[0m\u001b[0;34m\u001b[0m\u001b[0;34m\u001b[0m\u001b[0m\n\u001b[1;32m      4\u001b[0m )\n\u001b[1;32m      5\u001b[0m \u001b[0mfile_complexity_trend\u001b[0m\u001b[0;34m.\u001b[0m\u001b[0manalyze\u001b[0m\u001b[0;34m(\u001b[0m\u001b[0;34m)\u001b[0m\u001b[0;34m\u001b[0m\u001b[0;34m\u001b[0m\u001b[0m\n",
      "\u001b[0;32m~/work/code-health-notebook/cs_functions.ipynb\u001b[0m in \u001b[0;36m__init__\u001b[0;34m(self, project_for_analysis, file_name_for_analysis)\u001b[0m\n\u001b[1;32m    400\u001b[0m     \u001b[0;34m\"- [FileComplexityStaticAnalysis](#FileComplexityStaticAnalysis)\\n\"\u001b[0m\u001b[0;34m,\u001b[0m\u001b[0;34m\u001b[0m\u001b[0;34m\u001b[0m\u001b[0m\n\u001b[1;32m    401\u001b[0m     \u001b[0;34m\"- [FileComplexityTrendAnalysis](#FileComplexityTrendAnalysis)\"\u001b[0m\u001b[0;34m\u001b[0m\u001b[0;34m\u001b[0m\u001b[0m\n\u001b[0;32m--> 402\u001b[0;31m    ]\n\u001b[0m\u001b[1;32m    403\u001b[0m   },\n\u001b[1;32m    404\u001b[0m   {\n",
      "\u001b[0;32m~/work/code-health-notebook/cs_functions.ipynb\u001b[0m in \u001b[0;36mthrow_if_file_does_not_exist\u001b[0;34m(self, relative_file_name)\u001b[0m\n\u001b[1;32m     77\u001b[0m     \u001b[0;34m\"    \\\"/home/brombaut/work/hibernate-orm\\\",\\n\"\u001b[0m\u001b[0;34m,\u001b[0m\u001b[0;34m\u001b[0m\u001b[0;34m\u001b[0m\u001b[0m\n\u001b[1;32m     78\u001b[0m     \u001b[0;34m\"    before=\\\"2013-09-05\\\",\\n\"\u001b[0m\u001b[0;34m,\u001b[0m\u001b[0;34m\u001b[0m\u001b[0;34m\u001b[0m\u001b[0m\n\u001b[0;32m---> 79\u001b[0;31m     \u001b[0;34m\"    after=\\\"2012-01-01\\\"\\n\"\u001b[0m\u001b[0;34m,\u001b[0m\u001b[0;34m\u001b[0m\u001b[0;34m\u001b[0m\u001b[0m\n\u001b[0m\u001b[1;32m     80\u001b[0m     \u001b[0;34m\")\\n\"\u001b[0m\u001b[0;34m,\u001b[0m\u001b[0;34m\u001b[0m\u001b[0;34m\u001b[0m\u001b[0m\n\u001b[1;32m     81\u001b[0m     \u001b[0;34m\"```\"\u001b[0m\u001b[0;34m\u001b[0m\u001b[0;34m\u001b[0m\u001b[0m\n",
      "\u001b[0;31mException\u001b[0m: File not found: /home/brombaut/work/Craft.Net/Craft.Net.Server/MinecraftServer.cs"
     ]
    }
   ],
   "source": [
    "file_complexity_trend = FileComplexityTrendAnalysis(\n",
    "    craft,\n",
    "    \"Craft.Net.Server/MinecraftServer.cs\"\n",
    ")\n",
    "file_complexity_trend.analyze()\n",
    "file_complexity_trend.total_trend_line_plot()"
   ]
  },
  {
   "cell_type": "markdown",
   "id": "e21adba4",
   "metadata": {},
   "source": [
    "### Add assertions that a files complexity does not increase pass a certain threshold"
   ]
  },
  {
   "cell_type": "code",
   "execution_count": null,
   "id": "fc49aa91",
   "metadata": {},
   "outputs": [],
   "source": [
    "static_file_complexity = FileComplexityStaticAnalysis(\n",
    "    craft, \"Craft.Net.Server/MinecraftServer.cs\").analyze()\n",
    "\n",
    "current_file_complexity = static_file_complexity.static_complexity_data()['total'].item()"
   ]
  },
  {
   "cell_type": "code",
   "execution_count": null,
   "id": "376ba70c",
   "metadata": {},
   "outputs": [],
   "source": [
    "# Error if file complexity surpasses 1800\n",
    "assert current_file_complexity <= 1800, \\\n",
    "    f\"Craft.Net.Server/MinecraftServer.cs complexity too high: want<=1800, got={current_file_complexity}\""
   ]
  },
  {
   "cell_type": "markdown",
   "id": "19bc2bf9",
   "metadata": {},
   "source": [
    "### See what other files are coupled to these hotspots"
   ]
  },
  {
   "cell_type": "code",
   "execution_count": null,
   "id": "89d16294",
   "metadata": {},
   "outputs": [],
   "source": [
    "ftc_analysis = FileTemporalCouplingAnalysis(craft, \"Craft.Net.Server/MinecraftServer.cs\").analyze()\n",
    "ftc_analysis.enclosure_diagram()"
   ]
  },
  {
   "cell_type": "code",
   "execution_count": null,
   "id": "260a8239",
   "metadata": {},
   "outputs": [],
   "source": []
  }
 ],
 "metadata": {
  "kernelspec": {
   "display_name": "Python 3 (ipykernel)",
   "language": "python",
   "name": "python3"
  },
  "language_info": {
   "codemirror_mode": {
    "name": "ipython",
    "version": 3
   },
   "file_extension": ".py",
   "mimetype": "text/x-python",
   "name": "python",
   "nbconvert_exporter": "python",
   "pygments_lexer": "ipython3",
   "version": "3.9.7"
  }
 },
 "nbformat": 4,
 "nbformat_minor": 5
}
