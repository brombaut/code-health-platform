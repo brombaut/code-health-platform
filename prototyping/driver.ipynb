{
 "cells": [
  {
   "cell_type": "code",
   "execution_count": 1,
   "id": "99549fef-6339-463d-be67-87589d038279",
   "metadata": {},
   "outputs": [],
   "source": [
    "from ipynb.fs.full.cs_entities import ProjectForAnalysis, SystemBoundaries, AuthorColor\n",
    "from ipynb.fs.full.cs_analysis import \\\n",
    "    HotspotAnalysis, \\\n",
    "    StaticFileComplexityAnalysis, TrendFileComplexityAnalysis, \\\n",
    "    SystemCouplingAnalysis, FileCouplingAnalysis, \\\n",
    "    ParallelWorkAnalysis, MainDeveloperAnalysis"
   ]
  },
  {
   "cell_type": "markdown",
   "id": "31a1d472",
   "metadata": {},
   "source": [
    "## Create projects for analysis objects\n",
    "\n",
    "Need to specify the location of the local git directory, and optionally include a *before* and *after* date (in the form YYYY-MM-DD) to limit the timespan for the analysis."
   ]
  },
  {
   "cell_type": "code",
   "execution_count": 2,
   "id": "757176fc",
   "metadata": {},
   "outputs": [],
   "source": [
    "boundaries_dict = {\n",
    "    \"Code\": [\"src/code_maat\"],\n",
    "    \"Test\": [\"test/code_maat\"],\n",
    "}\n",
    "code_maat = ProjectForAnalysis(\n",
    "    \"/home/brombaut/work/code-maat\",\n",
    "    system_boundaries=SystemBoundaries(boundaries_dict)\n",
    ")"
   ]
  },
  {
   "cell_type": "code",
   "execution_count": 3,
   "id": "362c944d",
   "metadata": {},
   "outputs": [
    {
     "name": "stdout",
     "output_type": "stream",
     "text": [
      "Executing: git -C /home/brombaut/work/Craft.Net checkout db70d9ac17bf972352e93f74f1253dd9861706e6\n"
     ]
    }
   ],
   "source": [
    "code_maat = ProjectForAnalysis(\"/home/brombaut/work/code-maat\")\n",
    "sklearn = ProjectForAnalysis(\"/home/brombaut/work/scikit-learn\")\n",
    "cisc873 = ProjectForAnalysis(\"/home/brombaut/work/CISC873_TermProject\")\n",
    "linux = ProjectForAnalysis(\"/home/brombaut/work/linux\", after=\"2022-01-01\")\n",
    "benrombautca = ProjectForAnalysis(\"/home/brombaut/work/benrombautca\")\n",
    "hibernate = ProjectForAnalysis(\"/home/brombaut/work/hibernate-orm\", after=\"2019-01-01\")\n",
    "craft = ProjectForAnalysis(\"/home/brombaut/work/Craft.Net\", before=\"2013-01-01\")\n",
    "django = ProjectForAnalysis(\"/home/brombaut/work/django\")\n",
    "spring = ProjectForAnalysis(\"/home/brombaut/work/spring-boot\", after=\"2019-01-01\")\n",
    "java_callgraph = ProjectForAnalysis(\"/home/brombaut/work/java-callgraph\")\n",
    "\n"
   ]
  },
  {
   "cell_type": "markdown",
   "id": "d09ffd9d",
   "metadata": {},
   "source": [
    "### Perform a Hotspot analysis"
   ]
  },
  {
   "cell_type": "code",
   "execution_count": 5,
   "id": "6ee3a74c",
   "metadata": {},
   "outputs": [],
   "source": [
    "hs_analysis = HotspotAnalysis(java_callgraph).analyze()"
   ]
  },
  {
   "cell_type": "markdown",
   "id": "6a6b4723",
   "metadata": {},
   "source": [
    "See what the primary hotspots in the project for the timespan is"
   ]
  },
  {
   "cell_type": "code",
   "execution_count": 6,
   "id": "2a0cc362",
   "metadata": {},
   "outputs": [
    {
     "data": {
      "text/html": [
       "<div>\n",
       "<style scoped>\n",
       "    .dataframe tbody tr th:only-of-type {\n",
       "        vertical-align: middle;\n",
       "    }\n",
       "\n",
       "    .dataframe tbody tr th {\n",
       "        vertical-align: top;\n",
       "    }\n",
       "\n",
       "    .dataframe thead th {\n",
       "        text-align: right;\n",
       "    }\n",
       "</style>\n",
       "<table border=\"1\" class=\"dataframe\">\n",
       "  <thead>\n",
       "    <tr style=\"text-align: right;\">\n",
       "      <th></th>\n",
       "      <th>module</th>\n",
       "      <th>revisions</th>\n",
       "      <th>code</th>\n",
       "    </tr>\n",
       "  </thead>\n",
       "  <tbody>\n",
       "    <tr>\n",
       "      <th>0</th>\n",
       "      <td>pom.xml</td>\n",
       "      <td>10</td>\n",
       "      <td>84</td>\n",
       "    </tr>\n",
       "    <tr>\n",
       "      <th>1</th>\n",
       "      <td>README.md</td>\n",
       "      <td>10</td>\n",
       "      <td>141</td>\n",
       "    </tr>\n",
       "    <tr>\n",
       "      <th>2</th>\n",
       "      <td>src/main/java/gr/gousiosg/javacg/dyn/Instrumenter.java</td>\n",
       "      <td>8</td>\n",
       "      <td>125</td>\n",
       "    </tr>\n",
       "    <tr>\n",
       "      <th>3</th>\n",
       "      <td>src/main/java/gr/gousiosg/javacg/stat/MethodVisitor.java</td>\n",
       "      <td>7</td>\n",
       "      <td>68</td>\n",
       "    </tr>\n",
       "    <tr>\n",
       "      <th>4</th>\n",
       "      <td>src/main/java/gr/gousiosg/javacg/stat/ClassVisitor.java</td>\n",
       "      <td>6</td>\n",
       "      <td>56</td>\n",
       "    </tr>\n",
       "    <tr>\n",
       "      <th>5</th>\n",
       "      <td>src/main/java/gr/gousiosg/javacg/stat/DynamicCallManager.java</td>\n",
       "      <td>6</td>\n",
       "      <td>64</td>\n",
       "    </tr>\n",
       "    <tr>\n",
       "      <th>6</th>\n",
       "      <td>src/main/java/gr/gousiosg/javacg/stat/JCallGraph.java</td>\n",
       "      <td>5</td>\n",
       "      <td>62</td>\n",
       "    </tr>\n",
       "    <tr>\n",
       "      <th>7</th>\n",
       "      <td>src/main/java/gr/gousiosg/javacg/dyn/Pair.java</td>\n",
       "      <td>3</td>\n",
       "      <td>34</td>\n",
       "    </tr>\n",
       "    <tr>\n",
       "      <th>8</th>\n",
       "      <td>process_trace.rb</td>\n",
       "      <td>2</td>\n",
       "      <td>63</td>\n",
       "    </tr>\n",
       "    <tr>\n",
       "      <th>9</th>\n",
       "      <td>src/main/java/gr/gousiosg/javacg/dyn/MethodStack.java</td>\n",
       "      <td>1</td>\n",
       "      <td>76</td>\n",
       "    </tr>\n",
       "  </tbody>\n",
       "</table>\n",
       "</div>"
      ],
      "text/plain": [
       "                                                          module  revisions  \\\n",
       "0                                                        pom.xml         10   \n",
       "1                                                      README.md         10   \n",
       "2         src/main/java/gr/gousiosg/javacg/dyn/Instrumenter.java          8   \n",
       "3       src/main/java/gr/gousiosg/javacg/stat/MethodVisitor.java          7   \n",
       "4        src/main/java/gr/gousiosg/javacg/stat/ClassVisitor.java          6   \n",
       "5  src/main/java/gr/gousiosg/javacg/stat/DynamicCallManager.java          6   \n",
       "6          src/main/java/gr/gousiosg/javacg/stat/JCallGraph.java          5   \n",
       "7                 src/main/java/gr/gousiosg/javacg/dyn/Pair.java          3   \n",
       "8                                               process_trace.rb          2   \n",
       "9          src/main/java/gr/gousiosg/javacg/dyn/MethodStack.java          1   \n",
       "\n",
       "   code  \n",
       "0    84  \n",
       "1   141  \n",
       "2   125  \n",
       "3    68  \n",
       "4    56  \n",
       "5    64  \n",
       "6    62  \n",
       "7    34  \n",
       "8    63  \n",
       "9    76  "
      ]
     },
     "execution_count": 6,
     "metadata": {},
     "output_type": "execute_result"
    }
   ],
   "source": [
    "hs_analysis.df().head(10)"
   ]
  },
  {
   "cell_type": "code",
   "execution_count": null,
   "id": "6272a90b",
   "metadata": {},
   "outputs": [],
   "source": [
    "hs_analysis.enclosure_diagram()"
   ]
  },
  {
   "cell_type": "markdown",
   "id": "5056ae69",
   "metadata": {},
   "source": [
    "### File Complexity Analysis\n",
    "Based off of file indentation patterns"
   ]
  },
  {
   "cell_type": "code",
   "execution_count": null,
   "id": "7d1c6fe7",
   "metadata": {},
   "outputs": [],
   "source": [
    "static_file_complexity = StaticFileComplexityAnalysis(\n",
    "    craft, \"Craft.Net.Server/MinecraftServer.cs\"\n",
    ")\n",
    "static_file_complexity.analyze()"
   ]
  },
  {
   "cell_type": "markdown",
   "id": "86223acf",
   "metadata": {},
   "source": [
    "##### Current file complexity stats"
   ]
  },
  {
   "cell_type": "code",
   "execution_count": null,
   "id": "4f6c3f1f",
   "metadata": {},
   "outputs": [],
   "source": [
    "static_file_complexity.df()"
   ]
  },
  {
   "cell_type": "markdown",
   "id": "2691bde8",
   "metadata": {},
   "source": [
    "##### File complexity trends"
   ]
  },
  {
   "cell_type": "code",
   "execution_count": null,
   "id": "6280a30d",
   "metadata": {},
   "outputs": [],
   "source": [
    "file_complexity_trend = TrendFileComplexityAnalysis(\n",
    "    craft,\n",
    "    \"Craft.Net.Server/MinecraftServer.cs\"\n",
    ")\n",
    "file_complexity_trend.analyze()\n",
    "file_complexity_trend.total_trend_line_plot().sd_trend_line_plot()"
   ]
  },
  {
   "cell_type": "markdown",
   "id": "a10ee46c",
   "metadata": {},
   "source": [
    "### Sum of Coupling Analysis"
   ]
  },
  {
   "cell_type": "code",
   "execution_count": null,
   "id": "72de0a7a",
   "metadata": {},
   "outputs": [],
   "source": [
    "# soc_analysis = SumOfCouplingAnalysis(craft).analyze()\n",
    "# soc_analysis.soc_data().head(10)\n",
    "# ftc_analysis = FileTemporalCouplingAnalysis(craft, \"Craft.Net.Server/MinecraftServer.cs\").analyze()\n",
    "# ftc_analysis.enclosure_diagram()"
   ]
  },
  {
   "cell_type": "markdown",
   "id": "9550d5ae",
   "metadata": {},
   "source": [
    "### System Coupling Analysis"
   ]
  },
  {
   "cell_type": "code",
   "execution_count": null,
   "id": "1d7ef2f2",
   "metadata": {},
   "outputs": [],
   "source": [
    "boundaries_dict = {\n",
    "    \"Code\": [\"src/code_maat\"],\n",
    "    \"Analysis Test\": [\"test/code_maat/analysis\"],\n",
    "    \"Dataset Test\": [\"test/code_maat/dataset\"],\n",
    "    \"End to end Test\": [\"test/code_maat/end_to_end\"],\n",
    "    \"Parsers Test\": [\"test/code_maat/parsers\"],\n",
    "}\n",
    "boundaries = SystemBoundaries(boundaries_dict)\n",
    "craft = ProjectForAnalysis(\"/home/brombaut/work/code-maat\", system_boundaries=boundaries)\n",
    "coupling_data = SystemCouplingAnalysis(craft).analyze().df()\n",
    "coupling_data"
   ]
  },
  {
   "cell_type": "code",
   "execution_count": null,
   "id": "cbc9eb52",
   "metadata": {},
   "outputs": [],
   "source": [
    "# Different example\n",
    "benrombautca = ProjectForAnalysis(\"/home/brombaut/work/benrombautca\")\n",
    "coupling_data = SystemCouplingAnalysis(benrombautca).analyze().df()\n",
    "coupling_data.head()"
   ]
  },
  {
   "cell_type": "markdown",
   "id": "37fb9497",
   "metadata": {},
   "source": [
    "### File Coupling Analysis"
   ]
  },
  {
   "cell_type": "code",
   "execution_count": null,
   "id": "16aa8562",
   "metadata": {},
   "outputs": [],
   "source": [
    "benrombautca = ProjectForAnalysis(\"/home/brombaut/work/benrombautca\")\n",
    "file_coupling_analysis = FileCouplingAnalysis(benrombautca, \"src/bookshelf/BookshelfSection.vue\")\n",
    "file_coupling_analysis.analyze().df()"
   ]
  },
  {
   "cell_type": "code",
   "execution_count": null,
   "id": "0af2e8fb",
   "metadata": {},
   "outputs": [],
   "source": [
    "file_coupling_analysis.analyze().enclosure_diagram()"
   ]
  },
  {
   "cell_type": "markdown",
   "id": "4705a9fe",
   "metadata": {},
   "source": [
    "### Parallel Work Analysis"
   ]
  },
  {
   "cell_type": "code",
   "execution_count": null,
   "id": "125189f4",
   "metadata": {},
   "outputs": [],
   "source": [
    "craft = ProjectForAnalysis(\"/home/brombaut/work/Craft.Net\")\n",
    "an = ParallelWorkAnalysis(craft)\n",
    "an.analyze()\n",
    "an.df().head()"
   ]
  },
  {
   "cell_type": "code",
   "execution_count": null,
   "id": "f2d867b2",
   "metadata": {},
   "outputs": [],
   "source": [
    "an.enclosure_diagram()"
   ]
  },
  {
   "cell_type": "code",
   "execution_count": null,
   "id": "d903130a",
   "metadata": {},
   "outputs": [],
   "source": [
    "craft = ProjectForAnalysis(\"/home/brombaut/work/Craft.Net\")\n",
    "an = MainDeveloperAnalysis(craft)\n",
    "an.analyze()\n",
    "an.df().head()"
   ]
  },
  {
   "cell_type": "code",
   "execution_count": null,
   "id": "4a847442",
   "metadata": {},
   "outputs": [],
   "source": [
    "an.enclosure_diagram()"
   ]
  },
  {
   "cell_type": "code",
   "execution_count": null,
   "id": "06ee3a70",
   "metadata": {},
   "outputs": [],
   "source": []
  },
  {
   "cell_type": "code",
   "execution_count": null,
   "id": "3b3897ed",
   "metadata": {},
   "outputs": [],
   "source": []
  }
 ],
 "metadata": {
  "kernelspec": {
   "display_name": "Python 3 (ipykernel)",
   "language": "python",
   "name": "python3"
  },
  "language_info": {
   "codemirror_mode": {
    "name": "ipython",
    "version": 3
   },
   "file_extension": ".py",
   "mimetype": "text/x-python",
   "name": "python",
   "nbconvert_exporter": "python",
   "pygments_lexer": "ipython3",
   "version": "3.9.7"
  }
 },
 "nbformat": 4,
 "nbformat_minor": 5
}
