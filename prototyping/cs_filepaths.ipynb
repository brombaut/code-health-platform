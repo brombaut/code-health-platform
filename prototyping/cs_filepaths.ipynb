{
 "cells": [
  {
   "cell_type": "markdown",
   "id": "4ce1cbf0",
   "metadata": {},
   "source": [
    "### FilePaths"
   ]
  },
  {
   "cell_type": "code",
   "execution_count": 5,
   "id": "328b3800",
   "metadata": {},
   "outputs": [],
   "source": [
    "class FilePaths:\n",
    "    def __init__(self):\n",
    "        self.generated_files = \"./generated-files\"\n",
    "        self.cs_scripts = \"./cs-scripts\"\n",
    "        self.log_file = f\"{self.generated_files}/git_evo.log\"\n",
    "        self.maat_output_csv = f\"{self.generated_files}/maat_output.csv\"\n",
    "        self.cloc_lines_csv = f\"{self.generated_files}/cloc_lines.csv\"\n",
    "        self.enclosure_diagram_json = f\"{self.generated_files}/enclosure_diagram.json\"\n",
    "        self.codemaat_jar = \"./code-maat-jar/code-maat-1.1-SNAPSHOT-standalone.jar\"\n",
    "        self.boundaries_textfile = f\"{self.generated_files}/system_boundaries.txt\"\n",
    "        self.author_color_textfile = f\"{self.generated_files}/author_color.txt\""
   ]
  }
 ],
 "metadata": {
  "kernelspec": {
   "display_name": "Python 3 (ipykernel)",
   "language": "python",
   "name": "python3"
  },
  "language_info": {
   "codemirror_mode": {
    "name": "ipython",
    "version": 3
   },
   "file_extension": ".py",
   "mimetype": "text/x-python",
   "name": "python",
   "nbconvert_exporter": "python",
   "pygments_lexer": "ipython3",
   "version": "3.9.7"
  }
 },
 "nbformat": 4,
 "nbformat_minor": 5
}
