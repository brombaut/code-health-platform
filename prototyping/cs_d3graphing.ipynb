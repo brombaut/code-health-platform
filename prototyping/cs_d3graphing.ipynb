{
 "cells": [
  {
   "cell_type": "code",
   "execution_count": null,
   "id": "3f88f5bc",
   "metadata": {},
   "outputs": [],
   "source": [
    "import json\n",
    "from IPython.display import display, Javascript, HTML\n"
   ]
  },
  {
   "cell_type": "markdown",
   "id": "1c425b59",
   "metadata": {},
   "source": [
    "### D3 Diagrams"
   ]
  },
  {
   "cell_type": "code",
   "execution_count": 4,
   "id": "8e199c36",
   "metadata": {},
   "outputs": [],
   "source": [
    "class EnclosureDiagram:\n",
    "    def __init__(self, data, width=600, height=400):\n",
    "        self.data = data\n",
    "        self.width = width\n",
    "        self.height = height\n",
    "        # display(Javascript(\"require.config({paths: {d3: 'https://d3js.org/d3.v3.min'}});\"))\n",
    "        # display(Javascript(\"require.config({paths: {d3: 'd3/d3_3.4.6/d3.min'}});\"))\n",
    "        display(Javascript(filename=\"d3/enclosure_diagram.js\"))\n",
    "        display(HTML(filename=\"d3/enclosure_diagram.css.html\"))\n",
    "    \n",
    "    def show(self):\n",
    "        self._draw_enclosure_diagram(\"hotspot\")\n",
    "    \n",
    "    def _draw_enclosure_diagram(self, enc_type):\n",
    "        display(Javascript(\"\"\"\n",
    "            (function(element){\n",
    "                require(['enclosure_diagram_js'], function(enclosure_diagram_js) {\n",
    "                    enclosure_diagram_js(element.get(0), %s, '%s');\n",
    "                });\n",
    "            })(element);\n",
    "        \"\"\" % (json.dumps(self.data), enc_type)))"
   ]
  },
  {
   "cell_type": "code",
   "execution_count": 3,
   "id": "7d8009c7",
   "metadata": {},
   "outputs": [],
   "source": [
    "class MainDevEnclosureDiagram(EnclosureDiagram):\n",
    "    def __init__(self, data, width=600, height=400):\n",
    "        super().__init__(data, width=width, height=height)\n",
    "    \n",
    "    def show(self):\n",
    "        self._draw_enclosure_diagram(\"main_dev\")"
   ]
  },
  {
   "cell_type": "code",
   "execution_count": null,
   "id": "dde92f36",
   "metadata": {},
   "outputs": [],
   "source": []
  }
 ],
 "metadata": {
  "kernelspec": {
   "display_name": "Python 3 (ipykernel)",
   "language": "python",
   "name": "python3"
  },
  "language_info": {
   "codemirror_mode": {
    "name": "ipython",
    "version": 3
   },
   "file_extension": ".py",
   "mimetype": "text/x-python",
   "name": "python",
   "nbconvert_exporter": "python",
   "pygments_lexer": "ipython3",
   "version": "3.9.7"
  }
 },
 "nbformat": 4,
 "nbformat_minor": 5
}
