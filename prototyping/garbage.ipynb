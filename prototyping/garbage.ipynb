{
 "cells": [
  {
   "cell_type": "code",
   "execution_count": 1,
   "id": "c6377249",
   "metadata": {},
   "outputs": [],
   "source": [
    "import json\n",
    "from IPython.display import display, Javascript, HTML, Code"
   ]
  },
  {
   "cell_type": "code",
   "execution_count": 3,
   "id": "0697538a",
   "metadata": {},
   "outputs": [
    {
     "data": {
      "application/javascript": [
       "require.undef('graphiz_dependency');\n",
       "// const d3 = require(\"./d3_3.4.6/d3.min.js\");\n",
       "\n",
       "require.config({\n",
       "    paths: {\n",
       "        d3: 'd3/d3_3.4.6/d3.min',\n",
       "        d3_graphiz: 'd3/d3_graphiz_3.0.5/d3_graphiz.min',\n",
       "        wasm: 'd3/wasm_0.3.11/wasm.min'\n",
       "    }\n",
       "});\n",
       "\n",
       "define('graphiz_dependency', ['d3', 'd3_graphiz', 'wasm'], function (d3, d3_graphiz, wasm) {\n",
       "    function draw(container) {\n",
       "        console.log(d3);\n",
       "        console.log(d3_graphiz);\n",
       "        console.log(wasm);\n",
       "        var svg = d3.select(container)\n",
       "            .graphviz()\n",
       "            .renderDot(\"digraph{a->b}\");\n",
       "    };\n",
       "\n",
       "    return draw;\n",
       "});"
      ],
      "text/plain": [
       "<IPython.core.display.Javascript object>"
      ]
     },
     "metadata": {},
     "output_type": "display_data"
    }
   ],
   "source": [
    "display(Javascript(filename=\"d3/graphiz_dependency.js\"))"
   ]
  },
  {
   "cell_type": "code",
   "execution_count": 4,
   "id": "bb63193e",
   "metadata": {},
   "outputs": [
    {
     "data": {
      "application/javascript": [
       "\n",
       "(function(element){\n",
       "    require(['graphiz_dependency'], function(graphiz_dependency) {\n",
       "        graphiz_dependency(element.get(0));\n",
       "    });\n",
       "})(element);\n"
      ],
      "text/plain": [
       "<IPython.core.display.Javascript object>"
      ]
     },
     "metadata": {},
     "output_type": "display_data"
    }
   ],
   "source": [
    "display(Javascript(\"\"\"\n",
    "(function(element){\n",
    "    require(['graphiz_dependency'], function(graphiz_dependency) {\n",
    "        graphiz_dependency(element.get(0));\n",
    "    });\n",
    "})(element);\n",
    "\"\"\"\n",
    "))"
   ]
  },
  {
   "cell_type": "code",
   "execution_count": null,
   "id": "09d0739b",
   "metadata": {},
   "outputs": [],
   "source": []
  },
  {
   "cell_type": "code",
   "execution_count": null,
   "id": "b5cdbe02",
   "metadata": {},
   "outputs": [],
   "source": []
  },
  {
   "cell_type": "code",
   "execution_count": null,
   "id": "379b7d86",
   "metadata": {},
   "outputs": [],
   "source": []
  }
 ],
 "metadata": {
  "kernelspec": {
   "display_name": "Python 3 (ipykernel)",
   "language": "python",
   "name": "python3"
  },
  "language_info": {
   "codemirror_mode": {
    "name": "ipython",
    "version": 3
   },
   "file_extension": ".py",
   "mimetype": "text/x-python",
   "name": "python",
   "nbconvert_exporter": "python",
   "pygments_lexer": "ipython3",
   "version": "3.9.7"
  }
 },
 "nbformat": 4,
 "nbformat_minor": 5
}
