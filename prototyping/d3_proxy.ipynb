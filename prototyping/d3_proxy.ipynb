{
 "cells": [
  {
   "cell_type": "code",
   "execution_count": 1,
   "id": "2c74529e",
   "metadata": {},
   "outputs": [],
   "source": [
    "from IPython.display import display, Javascript, HTML\n",
    "import json"
   ]
  },
  {
   "cell_type": "code",
   "execution_count": 2,
   "id": "24b104ad",
   "metadata": {},
   "outputs": [],
   "source": [
    "class FilePaths:\n",
    "    def __init__(self):\n",
    "        self.generated_files = \"./generated-files\"\n",
    "        self.cs_scripts = \"./cs-scripts\"\n",
    "        self.evo_log_file = f\"{self.generated_files}/maat_evo.log\"\n",
    "        self.freqs_csv = f\"{self.generated_files}/maat_freqs.csv\"\n",
    "        self.lines_csv = f\"{self.generated_files}/maat_lines.csv\"\n",
    "        self.enclosure_diagram_json = f\"{self.generated_files}/enclosure_diagram.json\"\n",
    "        self.codemaat_jar = \"./code-maat-jar/code-maat-1.1-SNAPSHOT-standalone.jar\""
   ]
  },
  {
   "cell_type": "code",
   "execution_count": 3,
   "id": "00efb28d",
   "metadata": {},
   "outputs": [],
   "source": [
    "enclosure_diagram_json = ''\n",
    "with open(FilePaths().enclosure_diagram_json) as f:\n",
    "    enclosure_diagram_json = json.load(f)\n",
    "# enclosure_diagram_json"
   ]
  },
  {
   "cell_type": "code",
   "execution_count": null,
   "id": "6a3ee893",
   "metadata": {},
   "outputs": [],
   "source": []
  },
  {
   "cell_type": "code",
   "execution_count": 4,
   "id": "c8a8cfb3",
   "metadata": {},
   "outputs": [
    {
     "data": {
      "application/javascript": [
       "require.config({paths: {d3: 'https://d3js.org/d3.v3.min'}});"
      ],
      "text/plain": [
       "<IPython.core.display.Javascript object>"
      ]
     },
     "metadata": {},
     "output_type": "display_data"
    }
   ],
   "source": [
    "display(Javascript(\"require.config({paths: {d3: 'https://d3js.org/d3.v3.min'}});\"))"
   ]
  },
  {
   "cell_type": "code",
   "execution_count": 5,
   "id": "5c9fda92",
   "metadata": {},
   "outputs": [
    {
     "data": {
      "application/javascript": [
       "require.undef('enclosure_diagram_js');\n",
       "\n",
       "define('enclosure_diagram_js', ['d3'], function (d3) {\n",
       "\n",
       "    function draw(container, json_file) {\n",
       "        console.log(json_file);\n",
       "        var margin = 10,\n",
       "            outerDiameter = 600,\n",
       "            innerDiameter = outerDiameter - margin - margin;\n",
       "        \n",
       "        console.log(d3)\n",
       "        var x = d3.scale.linear().range([0, innerDiameter]);\n",
       "\n",
       "        var y = d3.scale.linear().range([0, innerDiameter]);\n",
       "\n",
       "        var color = d3.scale.linear()\n",
       "            .domain([-1, 5])\n",
       "            .range([\"hsl(185,60%,99%)\", \"hsl(187,40%,70%)\"])\n",
       "            .interpolate(d3.interpolateHcl);\n",
       "\n",
       "        var pack = d3.layout.pack()\n",
       "            .padding(2)\n",
       "            .size([innerDiameter, innerDiameter])\n",
       "            .value(function (d) { return d.size; })\n",
       "\n",
       "        var svg = d3.select(container).append(\"svg\")\n",
       "            .attr(\"width\", outerDiameter)\n",
       "            .attr(\"height\", outerDiameter)\n",
       "            .append(\"g\")\n",
       "            .attr(\"transform\", \"translate(\" + margin + \",\" + margin + \")\");\n",
       "        \n",
       "        // d3.json(json_file, function (error, root) {\n",
       "            console.log(json_file);\n",
       "            // root = JSON.parse(json_file);\n",
       "            // console.log(root);\n",
       "            var root = json_file;\n",
       "            console.log(root);\n",
       "            var focus = root,\n",
       "                nodes = pack.nodes(root);\n",
       "\n",
       "            svg.append(\"g\").selectAll(\"circle\")\n",
       "                .data(nodes)\n",
       "                .enter().append(\"circle\")\n",
       "                .attr(\"class\", function (d) { return d.parent ? d.children ? \"node\" : \"node node--leaf\" : \"node node--root\"; })\n",
       "                .attr(\"transform\", function (d) { return \"translate(\" + d.x + \",\" + d.y + \")\"; })\n",
       "                .attr(\"r\", function (d) { return d.r; })\n",
       "                .style(\"fill\", function (d) {\n",
       "                    return d.weight > 0.0 ? \"darkred\" :\n",
       "                        d.children ? color(d.depth) : \"WhiteSmoke\";\n",
       "                })\n",
       "                .style(\"fill-opacity\", function (d) { return d.weight; })\n",
       "                .on(\"click\", function (d) { return zoom(focus == d ? root : d); });\n",
       "\n",
       "            svg.append(\"g\").selectAll(\"text\")\n",
       "                .data(nodes)\n",
       "                .enter().append(\"text\")\n",
       "                .attr(\"class\", \"label\")\n",
       "                .attr(\"transform\", function (d) { return \"translate(\" + d.x + \",\" + d.y + \")\"; })\n",
       "                .style(\"fill-opacity\", function (d) { return d.parent === root ? 1 : 0; })\n",
       "                .style(\"display\", function (d) { return d.parent === root ? null : \"none\"; })\n",
       "                .text(function (d) { return d.name; });\n",
       "\n",
       "            d3.select(window)\n",
       "                .on(\"click\", function () { zoom(root); });\n",
       "\n",
       "            function zoom(d, i) {\n",
       "                var focus0 = focus;\n",
       "                focus = d;\n",
       "\n",
       "                var k = innerDiameter / d.r / 2;\n",
       "                x.domain([d.x - d.r, d.x + d.r]);\n",
       "                y.domain([d.y - d.r, d.y + d.r]);\n",
       "                d3.event.stopPropagation();\n",
       "\n",
       "                var transition = d3.selectAll(\"text,circle\").transition()\n",
       "                    .duration(d3.event.altKey ? 7500 : 750)\n",
       "                    .attr(\"transform\", function (d) { return \"translate(\" + x(d.x) + \",\" + y(d.y) + \")\"; });\n",
       "\n",
       "                transition.filter(\"circle\")\n",
       "                    .attr(\"r\", function (d) { return k * d.r; });\n",
       "\n",
       "                transition.filter(\"text\")\n",
       "                    .filter(function (d) { return d.parent === focus || d.parent === focus0; })\n",
       "                    .style(\"fill-opacity\", function (d) { return d.parent === focus ? 1 : 0; })\n",
       "                    .each(\"start\", function (d) { if (d.parent === focus) this.style.display = \"inline\"; })\n",
       "                    .each(\"end\", function (d) { if (d.parent !== focus) this.style.display = \"none\"; });\n",
       "            }\n",
       "        // });\n",
       "\n",
       "        d3.select(self.frameElement).style(\"height\", outerDiameter + \"px\");\n",
       "    }\n",
       "    return draw;\n",
       "});\n",
       "\n",
       "element.append('<small>&#x25C9; &#x25CB; &#x25EF; Loaded enclosure_diagram.js &#x25CC; &#x25CE; &#x25CF;</small>');\n",
       "\n",
       "\n",
       "// // First undefine 'circles' so we can easily reload this file.\n",
       "// require.undef('circles');\n",
       "\n",
       "// define('circles', ['d3'], function (d3) {\n",
       "\n",
       "//     function draw(container, data, width, height) {\n",
       "//         width = width || 600;\n",
       "//         height = height || 200;\n",
       "//         var svg = d3.select(container).append(\"svg\")\n",
       "//             .attr('width', width)\n",
       "//             .attr('height', height)\n",
       "//             .append(\"g\");\n",
       "\n",
       "//         var x = d3.scaleLinear()\n",
       "//             .domain([0, data.length - 1])\n",
       "//             .range([50, width - 50]);\n",
       "\n",
       "//         var circles = svg.selectAll('circle').data(data);\n",
       "\n",
       "//         circles.enter()\n",
       "//             .append('circle')\n",
       "//             .attr(\"cx\", function (d, i) {return x(i);})\n",
       "//             .attr(\"cy\", height / 2)\n",
       "//             .attr(\"r\", 20)\n",
       "//             .style(\"fill\", \"#1f77b4\")\n",
       "//             .style(\"opacity\", 0.7)\n",
       "//             .on('mouseover', function() {\n",
       "//                 d3.select(this)\n",
       "//                   .interrupt('fade')\n",
       "//                   .style('fill', '#ff850e')\n",
       "//                   .style(\"opacity\", 1)\n",
       "//                   .attr(\"r\", function (d) {return 1.1 * d + 10;});\n",
       "//             })\n",
       "//             .on('mouseout', function() {\n",
       "//                 d3.select(this)\n",
       "//                     .transition('fade').duration(500)\n",
       "//                     .style(\"fill\", \"#1f77b4\")\n",
       "//                     .style(\"opacity\", 0.7)\n",
       "//                     .attr(\"r\", function (d) {return d;});\n",
       "//             })\n",
       "//             .transition().duration(2000)\n",
       "//             .attr(\"r\", function (d) {return d;});\n",
       "//     }\n",
       "\n",
       "//     return draw;\n",
       "// });\n",
       "\n",
       "// element.append('<small>&#x25C9; &#x25CB; &#x25EF; Loaded circles.js &#x25CC; &#x25CE; &#x25CF;</small>');"
      ],
      "text/plain": [
       "<IPython.core.display.Javascript object>"
      ]
     },
     "metadata": {},
     "output_type": "display_data"
    }
   ],
   "source": [
    "display(Javascript(filename=\"d3/enclosure_diagram.js\"))"
   ]
  },
  {
   "cell_type": "code",
   "execution_count": 6,
   "id": "88cae6bc",
   "metadata": {},
   "outputs": [
    {
     "data": {
      "text/html": [
       "<style>\n",
       "    .node {\n",
       "        cursor: pointer;\n",
       "    }\n",
       "\n",
       "    .node:hover {\n",
       "        stroke: #000;\n",
       "        stroke-width: 1.5px;\n",
       "    }\n",
       "\n",
       "    .node--root {\n",
       "        stroke: #777;\n",
       "        stroke-width: 2px;\n",
       "    }\n",
       "\n",
       "    .node--leaf {\n",
       "        fill: white;\n",
       "        stroke: #777;\n",
       "        stroke-width: 1px;\n",
       "    }\n",
       "\n",
       "    .label {\n",
       "        font: 14px \"Helvetica Neue\", Helvetica, Arial, sans-serif;\n",
       "        text-anchor: middle;\n",
       "        fill: white;\n",
       "        text-shadow: 0 1px 0 #fff, 1px 0 0 #fff, -1px 0 0 #fff, 0 -1px 0 #fff;\n",
       "    }\n",
       "\n",
       "    .label,\n",
       "    .node--root,\n",
       "    .node--leaf {\n",
       "        pointer-events: none;\n",
       "    }\n",
       "</style>"
      ],
      "text/plain": [
       "<IPython.core.display.HTML object>"
      ]
     },
     "metadata": {},
     "output_type": "display_data"
    }
   ],
   "source": [
    "display(HTML(filename=\"d3/enclosure_diagram.css.html\"))"
   ]
  },
  {
   "cell_type": "code",
   "execution_count": null,
   "id": "9351293f",
   "metadata": {},
   "outputs": [],
   "source": [
    "# def draw_enclosure_diagram(json_file, width=600, height=400):\n",
    "#     print(json_file)\n",
    "#     display(Javascript(\"\"\"\n",
    "#         (function(element){\n",
    "#             require(['enclosure_diagram_js'], function(enclosure_diagram_js) {\n",
    "#                 enclosure_diagram_js(element.get(0), %s);\n",
    "#             });\n",
    "#         })(element);\n",
    "#     \"\"\" % (json_file)))\n",
    "# draw_enclosure_diagram(FilePaths().enclosure_diagram_json)"
   ]
  },
  {
   "cell_type": "code",
   "execution_count": 7,
   "id": "bd91ead0",
   "metadata": {},
   "outputs": [
    {
     "data": {
      "application/javascript": [
       "\n",
       "        (function(element){\n",
       "            require(['enclosure_diagram_js'], function(enclosure_diagram_js) {\n",
       "                enclosure_diagram_js(element.get(0), {\"name\": \"root\", \"children\": [{\"name\": \"package-lock.json\", \"children\": [], \"size\": \"14481\", \"weight\": 1.0}, {\"name\": \"src\", \"children\": [{\"name\": \"styles\", \"children\": [{\"name\": \"github_article.scss\", \"children\": [], \"size\": \"455\", \"weight\": 0.03636363636363636}, {\"name\": \"keyframes.scss\", \"children\": [], \"size\": \"62\", \"weight\": 0.00909090909090909}, {\"name\": \"common.scss\", \"children\": [], \"size\": \"39\", \"weight\": 0.09999999999999999}, {\"name\": \"variables.scss\", \"children\": [], \"size\": \"26\", \"weight\": 0.12727272727272726}]}, {\"name\": \"articles\", \"children\": [{\"name\": \"authored_articles_meta.json\", \"children\": [], \"size\": \"215\", \"weight\": 0.1909090909090909}, {\"name\": \"ArticlesTable.vue\", \"children\": [], \"size\": \"140\", \"weight\": 0.01818181818181818}, {\"name\": \"ArticleCard.vue\", \"children\": [], \"size\": \"136\", \"weight\": 0.07272727272727272}, {\"name\": \"ArticlesSection.vue\", \"children\": [], \"size\": \"111\", \"weight\": 0.08181818181818182}, {\"name\": \"SelectedArticleSection.vue\", \"children\": [], \"size\": \"88\", \"weight\": 0.06363636363636363}, {\"name\": \"authored_articles_content.json\", \"children\": [], \"size\": \"66\", \"weight\": 0.18181818181818182}, {\"name\": \"AuthoredArticlesProxy.ts\", \"children\": [], \"size\": \"62\", \"weight\": 0.00909090909090909}]}, {\"name\": \"bookshelf\", \"children\": [{\"name\": \"BookCard.vue\", \"children\": [], \"size\": \"209\", \"weight\": 0.21818181818181817}, {\"name\": \"BookshelfSection.vue\", \"children\": [], \"size\": \"175\", \"weight\": 0.18181818181818182}, {\"name\": \"syncer\", \"children\": [{\"name\": \"f3_syncer.ts\", \"children\": [], \"size\": \"152\", \"weight\": 0.02727272727272727}, {\"name\": \"goodreads_translator.py\", \"children\": [], \"size\": \"144\", \"weight\": 0.01818181818181818}, {\"name\": \"translated_books_from_gr.json\", \"children\": [], \"size\": \"1\", \"weight\": 0.02727272727272727}]}, {\"name\": \"ProgressBar.vue\", \"children\": [], \"size\": \"85\", \"weight\": 0.01818181818181818}, {\"name\": \"CachedF3Bookshelf.ts\", \"children\": [], \"size\": \"64\", \"weight\": 0.02727272727272727}, {\"name\": \"firebase.config.ts\", \"children\": [], \"size\": \"15\", \"weight\": 0.00909090909090909}]}, {\"name\": \"workEducation\", \"children\": [{\"name\": \"VerticalTimeline.vue\", \"children\": [], \"size\": \"179\", \"weight\": 0.09090909090909091}, {\"name\": \"workEntities.ts\", \"children\": [], \"size\": \"78\", \"weight\": 0.05454545454545454}, {\"name\": \"WorkCard.vue\", \"children\": [], \"size\": \"76\", \"weight\": 0.03636363636363636}, {\"name\": \"EducationCard.vue\", \"children\": [], \"size\": \"70\", \"weight\": 0.03636363636363636}, {\"name\": \"WorkEducationSection.vue\", \"children\": [], \"size\": \"45\", \"weight\": 0.05454545454545454}, {\"name\": \"educationEntities.ts\", \"children\": [], \"size\": \"31\", \"weight\": 0.06363636363636363}, {\"name\": \"work.ts\", \"children\": [], \"size\": \"10\", \"weight\": 0.01818181818181818}, {\"name\": \"education.ts\", \"children\": [], \"size\": \"9\", \"weight\": 0.01818181818181818}, {\"name\": \"timeline-entities.ts\", \"children\": [], \"size\": \"3\", \"weight\": 0.0}]}, {\"name\": \"software\", \"children\": [{\"name\": \"ExternalRepoIcon.vue\", \"children\": [], \"size\": \"155\", \"weight\": 0.00909090909090909}, {\"name\": \"SoftwareCard.vue\", \"children\": [], \"size\": \"155\", \"weight\": 0.06363636363636363}, {\"name\": \"syncer\", \"children\": [{\"name\": \"readme_syncer.py\", \"children\": [], \"size\": \"140\", \"weight\": 0.01818181818181818}]}, {\"name\": \"software_articles_meta.json\", \"children\": [], \"size\": \"121\", \"weight\": 0.09999999999999999}, {\"name\": \"SelectedSoftwareSection.vue\", \"children\": [], \"size\": \"102\", \"weight\": 0.03636363636363636}, {\"name\": \"SoftwareArticlesProxy.ts\", \"children\": [], \"size\": \"78\", \"weight\": 0.01818181818181818}, {\"name\": \"TechUsedIcon.vue\", \"children\": [], \"size\": \"74\", \"weight\": 0.00909090909090909}, {\"name\": \"SoftwareSection.vue\", \"children\": [], \"size\": \"70\", \"weight\": 0.02727272727272727}, {\"name\": \"software_articles_content.json\", \"children\": [], \"size\": \"14\", \"weight\": 0.07272727272727272}]}, {\"name\": \"site-header\", \"children\": [{\"name\": \"FullNavBar.vue\", \"children\": [], \"size\": \"114\", \"weight\": 0.06363636363636363}, {\"name\": \"NewNavBar.vue\", \"children\": [], \"size\": \"105\", \"weight\": 0.08181818181818182}, {\"name\": \"CondensedNavBar.vue\", \"children\": [], \"size\": \"101\", \"weight\": 0.03636363636363636}, {\"name\": \"ExternalProfileIcon.vue\", \"children\": [], \"size\": \"83\", \"weight\": 0.06363636363636363}, {\"name\": \"SiteHeader.vue\", \"children\": [], \"size\": \"81\", \"weight\": 0.18181818181818182}, {\"name\": \"BackButton.vue\", \"children\": [], \"size\": \"75\", \"weight\": 0.03636363636363636}, {\"name\": \"router.ts\", \"children\": [], \"size\": \"68\", \"weight\": 0.045454545454545456}, {\"name\": \"FullNavItem.vue\", \"children\": [], \"size\": \"64\", \"weight\": 0.045454545454545456}, {\"name\": \"external-profile.ts\", \"children\": [], \"size\": \"20\", \"weight\": 0.00909090909090909}]}, {\"name\": \"shared\", \"children\": [{\"name\": \"SkeletonLoader.vue\", \"children\": [], \"size\": \"83\", \"weight\": 0.01818181818181818}, {\"name\": \"Tag.vue\", \"children\": [], \"size\": \"79\", \"weight\": 0.11818181818181818}, {\"name\": \"SectionHeader.vue\", \"children\": [], \"size\": \"60\", \"weight\": 0.09090909090909091}, {\"name\": \"GitHubMarkdown.vue\", \"children\": [], \"size\": \"41\", \"weight\": 0.01818181818181818}, {\"name\": \"TagColor.ts\", \"children\": [], \"size\": \"8\", \"weight\": 0.00909090909090909}]}, {\"name\": \"main.ts\", \"children\": [], \"size\": \"76\", \"weight\": 0.21818181818181817}, {\"name\": \"aboutMe\", \"children\": [{\"name\": \"AboutMeSection.vue\", \"children\": [], \"size\": \"75\", \"weight\": 0.11818181818181818}, {\"name\": \"AboutMeExtended.vue\", \"children\": [], \"size\": \"26\", \"weight\": 0.08181818181818182}, {\"name\": \"aboutMe.ts\", \"children\": [], \"size\": \"17\", \"weight\": 0.09999999999999999}, {\"name\": \"about-me.ts\", \"children\": [], \"size\": \"4\", \"weight\": 0.01818181818181818}]}, {\"name\": \"App.vue\", \"children\": [], \"size\": \"65\", \"weight\": 0.43636363636363634}, {\"name\": \"utils\", \"children\": [{\"name\": \"ui-utils.ts\", \"children\": [], \"size\": \"46\", \"weight\": 0.06363636363636363}]}, {\"name\": \"marathon\", \"children\": [{\"name\": \"MarathonSection.vue\", \"children\": [], \"size\": \"45\", \"weight\": 0.01818181818181818}]}, {\"name\": \"footer\", \"children\": [{\"name\": \"SiteFooter.vue\", \"children\": [], \"size\": \"41\", \"weight\": 0.02727272727272727}, {\"name\": \"last-deployed.ts\", \"children\": [], \"size\": \"1\", \"weight\": 0.8090909090909091}]}, {\"name\": \"shims-tsx.d.ts\", \"children\": [], \"size\": \"10\", \"weight\": 0.02727272727272727}, {\"name\": \"shims-vue.d.ts\", \"children\": [], \"size\": \"4\", \"weight\": 0.01818181818181818}, {\"name\": \"app_config.ts\", \"children\": [], \"size\": \"3\", \"weight\": 0.01818181818181818}]}, {\"name\": \"package.json\", \"children\": [], \"size\": \"111\", \"weight\": 1.0}, {\"name\": \"tsconfig.json\", \"children\": [], \"size\": \"41\", \"weight\": 0.02727272727272727}, {\"name\": \".github\", \"children\": [{\"name\": \"workflows\", \"children\": [{\"name\": \"gh_pages_deploy.yml\", \"children\": [], \"size\": \"38\", \"weight\": 0.06363636363636363}, {\"name\": \"sync_bookshelf.yml\", \"children\": [], \"size\": \"36\", \"weight\": 0.03636363636363636}, {\"name\": \"install_lint_build.yml\", \"children\": [], \"size\": \"29\", \"weight\": 0.02727272727272727}, {\"name\": \"sync_software.yml\", \"children\": [], \"size\": \"16\", \"weight\": 0.045454545454545456}]}, {\"name\": \"dependabot.yml\", \"children\": [], \"size\": \"7\", \"weight\": 0.02727272727272727}]}, {\"name\": \"vue.config.js\", \"children\": [], \"size\": \"35\", \"weight\": 0.18181818181818182}, {\"name\": \"README.md\", \"children\": [], \"size\": \"30\", \"weight\": 0.20909090909090908}, {\"name\": \"scripts\", \"children\": [{\"name\": \"sync_software.sh\", \"children\": [], \"size\": \"23\", \"weight\": 0.03636363636363636}, {\"name\": \"sync_bookshelf.sh\", \"children\": [], \"size\": \"18\", \"weight\": 0.01818181818181818}, {\"name\": \"deploy.sh\", \"children\": [], \"size\": \"16\", \"weight\": 0.0}]}, {\"name\": \"public\", \"children\": [{\"name\": \"index.html\", \"children\": [], \"size\": \"18\", \"weight\": 0.05454545454545454}]}, {\"name\": \"setLastDeployed.sh\", \"children\": [], \"size\": \"6\", \"weight\": 0.00909090909090909}, {\"name\": \"babel.config.js\", \"children\": [], \"size\": \"5\", \"weight\": 0.045454545454545456}, {\"name\": \".husky\", \"children\": [{\"name\": \"pre-commit\", \"children\": [], \"size\": \"3\", \"weight\": 0.00909090909090909}]}, {\"name\": \".\", \"children\": [], \"size\": \"19963\", \"weight\": 0.0}]});\n",
       "            });\n",
       "        })(element);\n",
       "    "
      ],
      "text/plain": [
       "<IPython.core.display.Javascript object>"
      ]
     },
     "metadata": {},
     "output_type": "display_data"
    }
   ],
   "source": [
    "def draw_enclosure_diagram(data, width=600, height=400):\n",
    "    display(Javascript(\"\"\"\n",
    "        (function(element){\n",
    "            require(['enclosure_diagram_js'], function(enclosure_diagram_js) {\n",
    "                enclosure_diagram_js(element.get(0), %s);\n",
    "            });\n",
    "        })(element);\n",
    "    \"\"\" % (json.dumps(data))))\n",
    "draw_enclosure_diagram(enclosure_diagram_json)"
   ]
  },
  {
   "cell_type": "code",
   "execution_count": null,
   "id": "b486d123",
   "metadata": {},
   "outputs": [],
   "source": []
  }
 ],
 "metadata": {
  "kernelspec": {
   "display_name": "Python 3 (ipykernel)",
   "language": "python",
   "name": "python3"
  },
  "language_info": {
   "codemirror_mode": {
    "name": "ipython",
    "version": 3
   },
   "file_extension": ".py",
   "mimetype": "text/x-python",
   "name": "python",
   "nbconvert_exporter": "python",
   "pygments_lexer": "ipython3",
   "version": "3.9.7"
  }
 },
 "nbformat": 4,
 "nbformat_minor": 5
}
